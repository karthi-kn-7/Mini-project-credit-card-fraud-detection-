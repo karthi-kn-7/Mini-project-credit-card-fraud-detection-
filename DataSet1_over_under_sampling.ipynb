{
 "cells": [
  {
   "cell_type": "code",
   "execution_count": 1,
   "id": "19bfde9e-cc60-4634-95b9-9d0da339ed1d",
   "metadata": {},
   "outputs": [],
   "source": [
    "import pandas as pd\n",
    "import numpy as np"
   ]
  },
  {
   "cell_type": "code",
   "execution_count": 2,
   "id": "f3356801-89b1-478c-9d11-3b55ed6f6878",
   "metadata": {},
   "outputs": [
    {
     "name": "stdout",
     "output_type": "stream",
     "text": [
      "step              0\n",
      "amount            0\n",
      "nameOrig          0\n",
      "oldbalanceOrg     0\n",
      "newbalanceOrig    0\n",
      "nameDest          0\n",
      "oldbalanceDest    0\n",
      "newbalanceDest    0\n",
      "isFraud           0\n",
      "isFlaggedFraud    0\n",
      "type__0           0\n",
      "type__1           0\n",
      "type__2           0\n",
      "type__3           0\n",
      "type__4           0\n",
      "dtype: int64\n"
     ]
    }
   ],
   "source": [
    "dataset=pd.read_csv('preprocessed_data.csv')\n",
    "missing=dataset.isnull().sum()\n",
    "print(missing)"
   ]
  },
  {
   "cell_type": "code",
   "execution_count": 3,
   "id": "f95e93d5-b959-4873-b6bd-996f18a336ee",
   "metadata": {},
   "outputs": [],
   "source": [
    "x=dataset.drop(columns=['isFlaggedFraud','isFraud'])\n",
    "y=dataset['isFraud']"
   ]
  },
  {
   "cell_type": "code",
   "execution_count": 4,
   "id": "086bf70d",
   "metadata": {},
   "outputs": [
    {
     "data": {
      "text/html": [
       "<div>\n",
       "<style scoped>\n",
       "    .dataframe tbody tr th:only-of-type {\n",
       "        vertical-align: middle;\n",
       "    }\n",
       "\n",
       "    .dataframe tbody tr th {\n",
       "        vertical-align: top;\n",
       "    }\n",
       "\n",
       "    .dataframe thead th {\n",
       "        text-align: right;\n",
       "    }\n",
       "</style>\n",
       "<table border=\"1\" class=\"dataframe\">\n",
       "  <thead>\n",
       "    <tr style=\"text-align: right;\">\n",
       "      <th></th>\n",
       "      <th>step</th>\n",
       "      <th>amount</th>\n",
       "      <th>nameOrig</th>\n",
       "      <th>oldbalanceOrg</th>\n",
       "      <th>newbalanceOrig</th>\n",
       "      <th>nameDest</th>\n",
       "      <th>oldbalanceDest</th>\n",
       "      <th>newbalanceDest</th>\n",
       "      <th>type__0</th>\n",
       "      <th>type__1</th>\n",
       "      <th>type__2</th>\n",
       "      <th>type__3</th>\n",
       "      <th>type__4</th>\n",
       "    </tr>\n",
       "  </thead>\n",
       "  <tbody>\n",
       "    <tr>\n",
       "      <th>0</th>\n",
       "      <td>1</td>\n",
       "      <td>9839.64</td>\n",
       "      <td>403005</td>\n",
       "      <td>170136.0</td>\n",
       "      <td>160296.36</td>\n",
       "      <td>879262</td>\n",
       "      <td>0.00</td>\n",
       "      <td>0.00</td>\n",
       "      <td>0</td>\n",
       "      <td>0</td>\n",
       "      <td>0</td>\n",
       "      <td>1</td>\n",
       "      <td>0</td>\n",
       "    </tr>\n",
       "    <tr>\n",
       "      <th>1</th>\n",
       "      <td>1</td>\n",
       "      <td>1864.28</td>\n",
       "      <td>1163853</td>\n",
       "      <td>21249.0</td>\n",
       "      <td>19384.72</td>\n",
       "      <td>917252</td>\n",
       "      <td>0.00</td>\n",
       "      <td>0.00</td>\n",
       "      <td>0</td>\n",
       "      <td>0</td>\n",
       "      <td>0</td>\n",
       "      <td>1</td>\n",
       "      <td>0</td>\n",
       "    </tr>\n",
       "    <tr>\n",
       "      <th>2</th>\n",
       "      <td>1</td>\n",
       "      <td>181.00</td>\n",
       "      <td>532899</td>\n",
       "      <td>181.0</td>\n",
       "      <td>0.00</td>\n",
       "      <td>234096</td>\n",
       "      <td>0.00</td>\n",
       "      <td>0.00</td>\n",
       "      <td>0</td>\n",
       "      <td>0</td>\n",
       "      <td>0</td>\n",
       "      <td>0</td>\n",
       "      <td>1</td>\n",
       "    </tr>\n",
       "    <tr>\n",
       "      <th>3</th>\n",
       "      <td>1</td>\n",
       "      <td>181.00</td>\n",
       "      <td>3097189</td>\n",
       "      <td>181.0</td>\n",
       "      <td>0.00</td>\n",
       "      <td>208599</td>\n",
       "      <td>21182.00</td>\n",
       "      <td>0.00</td>\n",
       "      <td>0</td>\n",
       "      <td>1</td>\n",
       "      <td>0</td>\n",
       "      <td>0</td>\n",
       "      <td>0</td>\n",
       "    </tr>\n",
       "    <tr>\n",
       "      <th>4</th>\n",
       "      <td>1</td>\n",
       "      <td>11668.14</td>\n",
       "      <td>1831149</td>\n",
       "      <td>41554.0</td>\n",
       "      <td>29885.86</td>\n",
       "      <td>439742</td>\n",
       "      <td>0.00</td>\n",
       "      <td>0.00</td>\n",
       "      <td>0</td>\n",
       "      <td>0</td>\n",
       "      <td>0</td>\n",
       "      <td>1</td>\n",
       "      <td>0</td>\n",
       "    </tr>\n",
       "    <tr>\n",
       "      <th>...</th>\n",
       "      <td>...</td>\n",
       "      <td>...</td>\n",
       "      <td>...</td>\n",
       "      <td>...</td>\n",
       "      <td>...</td>\n",
       "      <td>...</td>\n",
       "      <td>...</td>\n",
       "      <td>...</td>\n",
       "      <td>...</td>\n",
       "      <td>...</td>\n",
       "      <td>...</td>\n",
       "      <td>...</td>\n",
       "      <td>...</td>\n",
       "    </tr>\n",
       "    <tr>\n",
       "      <th>3378990</th>\n",
       "      <td>254</td>\n",
       "      <td>294271.78</td>\n",
       "      <td>2216777</td>\n",
       "      <td>0.0</td>\n",
       "      <td>0.00</td>\n",
       "      <td>303236</td>\n",
       "      <td>874201.10</td>\n",
       "      <td>920672.39</td>\n",
       "      <td>0</td>\n",
       "      <td>1</td>\n",
       "      <td>0</td>\n",
       "      <td>0</td>\n",
       "      <td>0</td>\n",
       "    </tr>\n",
       "    <tr>\n",
       "      <th>3378991</th>\n",
       "      <td>254</td>\n",
       "      <td>174820.94</td>\n",
       "      <td>3227251</td>\n",
       "      <td>0.0</td>\n",
       "      <td>0.00</td>\n",
       "      <td>207980</td>\n",
       "      <td>1366815.38</td>\n",
       "      <td>1541636.32</td>\n",
       "      <td>0</td>\n",
       "      <td>1</td>\n",
       "      <td>0</td>\n",
       "      <td>0</td>\n",
       "      <td>0</td>\n",
       "    </tr>\n",
       "    <tr>\n",
       "      <th>3378992</th>\n",
       "      <td>254</td>\n",
       "      <td>285780.37</td>\n",
       "      <td>2570477</td>\n",
       "      <td>0.0</td>\n",
       "      <td>0.00</td>\n",
       "      <td>114168</td>\n",
       "      <td>970397.97</td>\n",
       "      <td>1256178.34</td>\n",
       "      <td>0</td>\n",
       "      <td>1</td>\n",
       "      <td>0</td>\n",
       "      <td>0</td>\n",
       "      <td>0</td>\n",
       "    </tr>\n",
       "    <tr>\n",
       "      <th>3378993</th>\n",
       "      <td>254</td>\n",
       "      <td>40402.43</td>\n",
       "      <td>1623381</td>\n",
       "      <td>0.0</td>\n",
       "      <td>0.00</td>\n",
       "      <td>131756</td>\n",
       "      <td>166124.02</td>\n",
       "      <td>206526.46</td>\n",
       "      <td>0</td>\n",
       "      <td>1</td>\n",
       "      <td>0</td>\n",
       "      <td>0</td>\n",
       "      <td>0</td>\n",
       "    </tr>\n",
       "    <tr>\n",
       "      <th>3378994</th>\n",
       "      <td>254</td>\n",
       "      <td>29774.92</td>\n",
       "      <td>1222550</td>\n",
       "      <td>0.0</td>\n",
       "      <td>0.00</td>\n",
       "      <td>21959</td>\n",
       "      <td>54174.09</td>\n",
       "      <td>83949.01</td>\n",
       "      <td>0</td>\n",
       "      <td>1</td>\n",
       "      <td>0</td>\n",
       "      <td>0</td>\n",
       "      <td>0</td>\n",
       "    </tr>\n",
       "  </tbody>\n",
       "</table>\n",
       "<p>3378995 rows × 13 columns</p>\n",
       "</div>"
      ],
      "text/plain": [
       "         step     amount  nameOrig  oldbalanceOrg  newbalanceOrig  nameDest  \\\n",
       "0           1    9839.64    403005       170136.0       160296.36    879262   \n",
       "1           1    1864.28   1163853        21249.0        19384.72    917252   \n",
       "2           1     181.00    532899          181.0            0.00    234096   \n",
       "3           1     181.00   3097189          181.0            0.00    208599   \n",
       "4           1   11668.14   1831149        41554.0        29885.86    439742   \n",
       "...       ...        ...       ...            ...             ...       ...   \n",
       "3378990   254  294271.78   2216777            0.0            0.00    303236   \n",
       "3378991   254  174820.94   3227251            0.0            0.00    207980   \n",
       "3378992   254  285780.37   2570477            0.0            0.00    114168   \n",
       "3378993   254   40402.43   1623381            0.0            0.00    131756   \n",
       "3378994   254   29774.92   1222550            0.0            0.00     21959   \n",
       "\n",
       "         oldbalanceDest  newbalanceDest  type__0  type__1  type__2  type__3  \\\n",
       "0                  0.00            0.00        0        0        0        1   \n",
       "1                  0.00            0.00        0        0        0        1   \n",
       "2                  0.00            0.00        0        0        0        0   \n",
       "3              21182.00            0.00        0        1        0        0   \n",
       "4                  0.00            0.00        0        0        0        1   \n",
       "...                 ...             ...      ...      ...      ...      ...   \n",
       "3378990       874201.10       920672.39        0        1        0        0   \n",
       "3378991      1366815.38      1541636.32        0        1        0        0   \n",
       "3378992       970397.97      1256178.34        0        1        0        0   \n",
       "3378993       166124.02       206526.46        0        1        0        0   \n",
       "3378994        54174.09        83949.01        0        1        0        0   \n",
       "\n",
       "         type__4  \n",
       "0              0  \n",
       "1              0  \n",
       "2              1  \n",
       "3              0  \n",
       "4              0  \n",
       "...          ...  \n",
       "3378990        0  \n",
       "3378991        0  \n",
       "3378992        0  \n",
       "3378993        0  \n",
       "3378994        0  \n",
       "\n",
       "[3378995 rows x 13 columns]"
      ]
     },
     "execution_count": 4,
     "metadata": {},
     "output_type": "execute_result"
    }
   ],
   "source": [
    "x"
   ]
  },
  {
   "cell_type": "code",
   "execution_count": 5,
   "id": "b0a09e16",
   "metadata": {},
   "outputs": [
    {
     "data": {
      "text/plain": [
       "0          0\n",
       "1          0\n",
       "2          1\n",
       "3          1\n",
       "4          0\n",
       "          ..\n",
       "3378991    0\n",
       "3378992    0\n",
       "3378993    0\n",
       "3378994    0\n",
       "3378995    0\n",
       "Name: isFraud, Length: 3378996, dtype: int64"
      ]
     },
     "execution_count": 5,
     "metadata": {},
     "output_type": "execute_result"
    }
   ],
   "source": [
    "y"
   ]
  },
  {
   "cell_type": "code",
   "execution_count": 5,
   "id": "2f83e4fa-64db-44b4-87c0-f0b03a8fadb9",
   "metadata": {},
   "outputs": [
    {
     "name": "stdout",
     "output_type": "stream",
     "text": [
      "3378995\n",
      "3378995 3378995\n"
     ]
    }
   ],
   "source": [
    "print(len(dataset))\n",
    "print(len(x),len(y))"
   ]
  },
  {
   "cell_type": "markdown",
   "id": "568ef546",
   "metadata": {},
   "source": [
    "Nothing"
   ]
  },
  {
   "cell_type": "code",
   "execution_count": 6,
   "id": "3562ed95",
   "metadata": {},
   "outputs": [],
   "source": [
    "from sklearn.model_selection import train_test_split \n",
    "xtrain,xtest,ytrain,ytest=train_test_split(x,y,test_size=.2,stratify=y)"
   ]
  },
  {
   "cell_type": "code",
   "execution_count": 7,
   "id": "dfb9c446",
   "metadata": {},
   "outputs": [
    {
     "name": "stdout",
     "output_type": "stream",
     "text": [
      "report\n",
      "               precision    recall  f1-score   support\n",
      "\n",
      "           0   0.999593  0.999936  0.999765    675224\n",
      "           1   0.874636  0.521739  0.653595       575\n",
      "\n",
      "    accuracy                       0.999529    675799\n",
      "   macro avg   0.937114  0.760838  0.826680    675799\n",
      "weighted avg   0.999487  0.999529  0.999470    675799\n",
      "\n"
     ]
    }
   ],
   "source": [
    "from sklearn.neighbors import KNeighborsClassifier \n",
    "from sklearn.metrics import classification_report \n",
    "knn = KNeighborsClassifier(algorithm='auto', leaf_size=30, metric='minkowski', metric_params=None, n_jobs=-1, n_neighbors=5, p=2, weights='uniform')\n",
    "knn.fit(xtrain,ytrain)\n",
    "ypre_knn=knn.predict(xtest)\n",
    "print(\"report\\n\",classification_report(ytest,ypre_knn,digits=6))\n",
    "# this takes 2m"
   ]
  },
  {
   "cell_type": "code",
   "execution_count": 8,
   "id": "d1dcb176",
   "metadata": {},
   "outputs": [
    {
     "name": "stdout",
     "output_type": "stream",
     "text": [
      "lda report\n",
      "               precision    recall  f1-score   support\n",
      "\n",
      "           0       1.00      1.00      1.00    675224\n",
      "           1       0.63      0.44      0.52       575\n",
      "\n",
      "    accuracy                           1.00    675799\n",
      "   macro avg       0.82      0.72      0.76    675799\n",
      "weighted avg       1.00      1.00      1.00    675799\n",
      "\n"
     ]
    }
   ],
   "source": [
    "from sklearn.discriminant_analysis import LinearDiscriminantAnalysis\n",
    "from sklearn.metrics import confusion_matrix, accuracy_score, recall_score, precision_score, f1_score, classification_report\n",
    "\n",
    "lda = LinearDiscriminantAnalysis(covariance_estimator=None, n_components=None, priors=None, shrinkage=None, solver='svd', store_covariance=False, tol=0.0001)\n",
    "lda.fit(xtrain, ytrain)\n",
    "ypre_lda = lda.predict(xtest)\n",
    "print(\"lda report\\n\", classification_report(ytest, ypre_lda))\n",
    "#13 sec"
   ]
  },
  {
   "cell_type": "code",
   "execution_count": 9,
   "id": "29c930da",
   "metadata": {},
   "outputs": [
    {
     "name": "stdout",
     "output_type": "stream",
     "text": [
      "Mean Squared Error (MSE): 0.0007018091538874882\n",
      "Mean Absolute Error (MAE): 0.004479910640092417\n",
      "R-squared (R2) Score: 0.02649168084300217\n"
     ]
    }
   ],
   "source": [
    "from sklearn.metrics import mean_squared_error,mean_absolute_error,r2_score\n",
    "from sklearn.linear_model import LinearRegression\n",
    "lr=LinearRegression()\n",
    "lr.fit(xtrain,ytrain)\n",
    "ypre_lr=lr.predict(xtest)\n",
    "\n",
    "mse = mean_squared_error(ytest, ypre_lr)\n",
    "mae = mean_absolute_error(ytest, ypre_lr)\n",
    "rmse = np.sqrt(mse)\n",
    "\n",
    "print(\"Mean Squared Error (MSE):\", mse)\n",
    "print(\"Mean Absolute Error (MAE):\", mae)\n",
    "print(\"R-squared (R2) Score:\", rmse)\n",
    "# 4sec"
   ]
  },
  {
   "cell_type": "code",
   "execution_count": 10,
   "id": "bed67ec9",
   "metadata": {},
   "outputs": [],
   "source": [
    "mvl=sum(ypre_lr)/len(ypre_lr)\n",
    "por=[0]*len(ytest)\n",
    "for i in range(0,len(ypre_lr)):\n",
    "    if(ypre_knn[i]==0 or ypre_lda[i]==0):\n",
    "        if(ypre_lr[i]<mvl):\n",
    "            por[i]=0\n",
    "    elif(ypre_knn[i]==1 or ypre_lda[i]==1):\n",
    "        if(ypre_lr[i]>mvl):\n",
    "            por[i]=1\n",
    "    else:\n",
    "        por[i]=ypre_knn[i]"
   ]
  },
  {
   "cell_type": "code",
   "execution_count": 11,
   "id": "d12dbdbe",
   "metadata": {},
   "outputs": [
    {
     "name": "stdout",
     "output_type": "stream",
     "text": [
      "acc :  0.9994524999297129\n",
      "pre :  0.9218106995884774\n",
      "f1  :  0.5476772616136919\n",
      "re  :  0.38956521739130434\n"
     ]
    }
   ],
   "source": [
    "acc=accuracy_score(ytest,por)\n",
    "pcc=precision_score(ytest,por)\n",
    "ff=f1_score(ytest,por)\n",
    "re=recall_score(ytest,por)\n",
    "print(\"acc : \",acc)\n",
    "print(\"pre : \",pcc)\n",
    "print(\"f1  : \",ff)\n",
    "print(\"re  : \",re)"
   ]
  },
  {
   "cell_type": "code",
   "execution_count": 12,
   "id": "24949e73",
   "metadata": {},
   "outputs": [
    {
     "name": "stdout",
     "output_type": "stream",
     "text": [
      "              precision    recall  f1-score   support\n",
      "\n",
      "           0       1.00      1.00      1.00    675224\n",
      "           1       0.92      0.39      0.55       575\n",
      "\n",
      "    accuracy                           1.00    675799\n",
      "   macro avg       0.96      0.69      0.77    675799\n",
      "weighted avg       1.00      1.00      1.00    675799\n",
      "\n"
     ]
    }
   ],
   "source": [
    "print(classification_report(ytest,por))"
   ]
  },
  {
   "cell_type": "code",
   "execution_count": null,
   "id": "68049b4d",
   "metadata": {},
   "outputs": [],
   "source": []
  },
  {
   "cell_type": "code",
   "execution_count": 7,
   "id": "9aaf87c0-c49d-47c2-a137-79e0d12780fc",
   "metadata": {},
   "outputs": [],
   "source": [
    "c_0,c_1=y.value_counts()"
   ]
  },
  {
   "cell_type": "code",
   "execution_count": 8,
   "id": "18658e0d",
   "metadata": {},
   "outputs": [
    {
     "data": {
      "text/plain": [
       "2873"
      ]
     },
     "execution_count": 8,
     "metadata": {},
     "output_type": "execute_result"
    }
   ],
   "source": [
    "c_1"
   ]
  },
  {
   "cell_type": "code",
   "execution_count": 9,
   "id": "52a114f7",
   "metadata": {},
   "outputs": [],
   "source": [
    "ds_with_c0=dataset[dataset['isFraud']==0]\n",
    "ds_with_c1=dataset[dataset['isFraud']==1]"
   ]
  },
  {
   "cell_type": "code",
   "execution_count": 10,
   "id": "485630b7",
   "metadata": {},
   "outputs": [
    {
     "data": {
      "text/plain": [
       "(3376123, 15)"
      ]
     },
     "execution_count": 10,
     "metadata": {},
     "output_type": "execute_result"
    }
   ],
   "source": [
    "ds_with_c0.shape"
   ]
  },
  {
   "cell_type": "code",
   "execution_count": 11,
   "id": "6e878306",
   "metadata": {},
   "outputs": [
    {
     "data": {
      "text/plain": [
       "(2873, 15)"
      ]
     },
     "execution_count": 11,
     "metadata": {},
     "output_type": "execute_result"
    }
   ],
   "source": [
    "ds_with_c1.shape"
   ]
  },
  {
   "cell_type": "code",
   "execution_count": 12,
   "id": "a61f429e",
   "metadata": {},
   "outputs": [
    {
     "data": {
      "text/plain": [
       "(6752246, 15)"
      ]
     },
     "execution_count": 12,
     "metadata": {},
     "output_type": "execute_result"
    }
   ],
   "source": [
    "ds_1_over=ds_with_c1.sample(c_0,replace=True)\n",
    "ds_over=pd.concat([ds_with_c0,ds_1_over])\n",
    "ds_over.shape"
   ]
  },
  {
   "cell_type": "code",
   "execution_count": 13,
   "id": "33878f3e-c369-4b28-a289-97dd9d1b5d65",
   "metadata": {},
   "outputs": [],
   "source": [
    "x=ds_over.drop(columns=['isFlaggedFraud','isFraud'])\n",
    "y=ds_over['isFraud']"
   ]
  },
  {
   "cell_type": "code",
   "execution_count": 14,
   "id": "cd5f6e63-61a8-4b48-b123-2f65d84adc1e",
   "metadata": {},
   "outputs": [
    {
     "data": {
      "text/plain": [
       "isFraud\n",
       "0    3376123\n",
       "1    3376123\n",
       "Name: count, dtype: int64"
      ]
     },
     "execution_count": 14,
     "metadata": {},
     "output_type": "execute_result"
    }
   ],
   "source": [
    "y.value_counts()"
   ]
  },
  {
   "cell_type": "markdown",
   "id": "82bc37aa",
   "metadata": {},
   "source": [
    "Over sampling"
   ]
  },
  {
   "cell_type": "code",
   "execution_count": 15,
   "id": "9700fa44-4c6a-4141-8f01-1fa8b10911e0",
   "metadata": {},
   "outputs": [],
   "source": [
    "from sklearn.model_selection import train_test_split \n",
    "xtrain,xtest,ytrain,ytest=train_test_split(x,y,test_size=.2,stratify=y)"
   ]
  },
  {
   "cell_type": "code",
   "execution_count": 16,
   "id": "a11c67ca-b315-46af-b087-eb152cc9b0b6",
   "metadata": {},
   "outputs": [
    {
     "name": "stdout",
     "output_type": "stream",
     "text": [
      "report\n",
      "               precision    recall  f1-score   support\n",
      "\n",
      "           0   1.000000  0.998762  0.999381    675225\n",
      "           1   0.998763  1.000000  0.999381    675225\n",
      "\n",
      "    accuracy                       0.999381   1350450\n",
      "   macro avg   0.999382  0.999381  0.999381   1350450\n",
      "weighted avg   0.999382  0.999381  0.999381   1350450\n",
      "\n"
     ]
    }
   ],
   "source": [
    "from sklearn.neighbors import KNeighborsClassifier \n",
    "from sklearn.metrics import classification_report \n",
    "knn = KNeighborsClassifier(algorithm='auto', leaf_size=30, metric='minkowski', metric_params=None, n_jobs=-1, n_neighbors=5, p=2, weights='uniform')\n",
    "knn.fit(xtrain,ytrain)\n",
    "ypre_knn=knn.predict(xtest)\n",
    "print(\"report\\n\",classification_report(ytest,ypre_knn,digits=6))\n",
    "# this takes 2m"
   ]
  },
  {
   "cell_type": "code",
   "execution_count": 17,
   "id": "e570afd7-2e0a-4acd-9ad3-bcacb82f68fd",
   "metadata": {},
   "outputs": [
    {
     "name": "stdout",
     "output_type": "stream",
     "text": [
      "lda report\n",
      "               precision    recall  f1-score   support\n",
      "\n",
      "           0       0.98      0.80      0.88    675225\n",
      "           1       0.83      0.99      0.90    675225\n",
      "\n",
      "    accuracy                           0.89   1350450\n",
      "   macro avg       0.91      0.89      0.89   1350450\n",
      "weighted avg       0.91      0.89      0.89   1350450\n",
      "\n"
     ]
    }
   ],
   "source": [
    "from sklearn.discriminant_analysis import LinearDiscriminantAnalysis\n",
    "from sklearn.metrics import confusion_matrix, accuracy_score, recall_score, precision_score, f1_score, classification_report\n",
    "\n",
    "lda = LinearDiscriminantAnalysis(covariance_estimator=None, n_components=None, priors=None, shrinkage=None, solver='svd', store_covariance=False, tol=0.0001)\n",
    "lda.fit(xtrain, ytrain)\n",
    "ypre_lda = lda.predict(xtest)\n",
    "print(\"lda report\\n\", classification_report(ytest, ypre_lda))\n",
    "#13 sec"
   ]
  },
  {
   "cell_type": "code",
   "execution_count": 18,
   "id": "8bb3439c-d104-495c-8e34-afa8ddf2f036",
   "metadata": {},
   "outputs": [
    {
     "name": "stdout",
     "output_type": "stream",
     "text": [
      "Mean Squared Error (MSE): 0.10049674234720693\n",
      "Mean Absolute Error (MAE): 0.23850281351942387\n",
      "R-squared (R2) Score: 0.31701221166889915\n"
     ]
    }
   ],
   "source": [
    "from sklearn.metrics import mean_squared_error,mean_absolute_error,r2_score\n",
    "from sklearn.linear_model import LinearRegression\n",
    "lr=LinearRegression()\n",
    "lr.fit(xtrain,ytrain)\n",
    "ypre_lr=lr.predict(xtest)\n",
    "\n",
    "mse = mean_squared_error(ytest, ypre_lr)\n",
    "mae = mean_absolute_error(ytest, ypre_lr)\n",
    "rmse = np.sqrt(mse)\n",
    "\n",
    "print(\"Mean Squared Error (MSE):\", mse)\n",
    "print(\"Mean Absolute Error (MAE):\", mae)\n",
    "print(\"R-squared (R2) Score:\", rmse)\n",
    "# 4sec"
   ]
  },
  {
   "cell_type": "code",
   "execution_count": 19,
   "id": "f568a9fe-eb74-41e9-9181-60dbfd2d59e0",
   "metadata": {},
   "outputs": [],
   "source": [
    "mvl=sum(ypre_lr)/len(ypre_lr)\n",
    "por=[0]*len(ytest)\n",
    "for i in range(0,len(ypre_lr)):\n",
    "    if(ypre_knn[i]==0 or ypre_lda[i]==0):\n",
    "        if(ypre_lr[i]<mvl):\n",
    "            por[i]=0\n",
    "    elif(ypre_knn[i]==1 or ypre_lda[i]==1):\n",
    "        if(ypre_lr[i]>mvl):\n",
    "            por[i]=1\n",
    "    else:\n",
    "        por[i]=ypre_knn[i]"
   ]
  },
  {
   "cell_type": "code",
   "execution_count": 20,
   "id": "5ffdb1a8-5970-48c8-ab14-b4faccc3e663",
   "metadata": {},
   "outputs": [
    {
     "name": "stdout",
     "output_type": "stream",
     "text": [
      "acc :  0.9924706579288385\n",
      "pre :  0.9988388925975653\n",
      "f1  :  0.9924222889635795\n",
      "re  :  0.9860876004294865\n"
     ]
    }
   ],
   "source": [
    "acc=accuracy_score(ytest,por)\n",
    "pcc=precision_score(ytest,por)\n",
    "ff=f1_score(ytest,por)\n",
    "re=recall_score(ytest,por)\n",
    "print(\"acc : \",acc)\n",
    "print(\"pre : \",pcc)\n",
    "print(\"f1  : \",ff)\n",
    "print(\"re  : \",re)"
   ]
  },
  {
   "cell_type": "code",
   "execution_count": 21,
   "id": "f28dcedf-01eb-4bb0-ac7a-8a55c710230b",
   "metadata": {},
   "outputs": [
    {
     "name": "stdout",
     "output_type": "stream",
     "text": [
      "              precision    recall  f1-score   support\n",
      "\n",
      "           0       0.99      1.00      0.99    675225\n",
      "           1       1.00      0.99      0.99    675225\n",
      "\n",
      "    accuracy                           0.99   1350450\n",
      "   macro avg       0.99      0.99      0.99   1350450\n",
      "weighted avg       0.99      0.99      0.99   1350450\n",
      "\n"
     ]
    }
   ],
   "source": [
    "print(classification_report(ytest,por))"
   ]
  },
  {
   "cell_type": "markdown",
   "id": "896c643d",
   "metadata": {},
   "source": [
    "Under sampling"
   ]
  },
  {
   "cell_type": "code",
   "execution_count": 22,
   "id": "51214d28",
   "metadata": {},
   "outputs": [
    {
     "data": {
      "text/plain": [
       "(5746, 15)"
      ]
     },
     "execution_count": 22,
     "metadata": {},
     "output_type": "execute_result"
    }
   ],
   "source": [
    "ds_under_0=dataset.sample(c_1,replace=True)\n",
    "ds_under=pd.concat([ds_under_0,ds_with_c1])\n",
    "ds_under.shape\n"
   ]
  },
  {
   "cell_type": "code",
   "execution_count": 23,
   "id": "7f287bb4",
   "metadata": {},
   "outputs": [],
   "source": [
    "x=ds_under.drop(columns=['isFlaggedFraud','isFraud'])\n",
    "y=ds_under['isFraud']"
   ]
  },
  {
   "cell_type": "code",
   "execution_count": 24,
   "id": "b2c06466",
   "metadata": {},
   "outputs": [],
   "source": [
    "from sklearn.model_selection import train_test_split \n",
    "xtrain,xtest,ytrain,ytest=train_test_split(x,y,test_size=.2,stratify=y)"
   ]
  },
  {
   "cell_type": "code",
   "execution_count": 25,
   "id": "c91128af",
   "metadata": {},
   "outputs": [
    {
     "name": "stdout",
     "output_type": "stream",
     "text": [
      "report\n",
      "               precision    recall  f1-score   support\n",
      "\n",
      "           0   0.888112  0.885017  0.886562       574\n",
      "           1   0.885813  0.888889  0.887348       576\n",
      "\n",
      "    accuracy                       0.886957      1150\n",
      "   macro avg   0.886963  0.886953  0.886955      1150\n",
      "weighted avg   0.886961  0.886957  0.886956      1150\n",
      "\n"
     ]
    }
   ],
   "source": [
    "from sklearn.neighbors import KNeighborsClassifier \n",
    "from sklearn.metrics import classification_report \n",
    "knn = KNeighborsClassifier(algorithm='auto', leaf_size=30, metric='minkowski', metric_params=None, n_jobs=-1, n_neighbors=5, p=2, weights='uniform')\n",
    "knn.fit(xtrain,ytrain)\n",
    "ypre_knn=knn.predict(xtest)\n",
    "print(\"report\\n\",classification_report(ytest,ypre_knn,digits=6))\n",
    "# this takes 1m45min"
   ]
  },
  {
   "cell_type": "code",
   "execution_count": 26,
   "id": "a1094fbe",
   "metadata": {},
   "outputs": [
    {
     "name": "stdout",
     "output_type": "stream",
     "text": [
      "lda report\n",
      "               precision    recall  f1-score   support\n",
      "\n",
      "           0       0.99      0.79      0.88       574\n",
      "           1       0.83      0.99      0.90       576\n",
      "\n",
      "    accuracy                           0.89      1150\n",
      "   macro avg       0.91      0.89      0.89      1150\n",
      "weighted avg       0.91      0.89      0.89      1150\n",
      "\n"
     ]
    }
   ],
   "source": [
    "from sklearn.discriminant_analysis import LinearDiscriminantAnalysis\n",
    "from sklearn.metrics import confusion_matrix, accuracy_score, recall_score, precision_score, f1_score, classification_report\n",
    "\n",
    "lda = LinearDiscriminantAnalysis(covariance_estimator=None, n_components=None, priors=None, shrinkage=None, solver='svd', store_covariance=False, tol=0.0001)\n",
    "lda.fit(xtrain, ytrain)\n",
    "ypre_lda = lda.predict(xtest)\n",
    "print(\"lda report\\n\", classification_report(ytest, ypre_lda))\n",
    "#13 sec"
   ]
  },
  {
   "cell_type": "code",
   "execution_count": 27,
   "id": "3139815e",
   "metadata": {},
   "outputs": [
    {
     "name": "stdout",
     "output_type": "stream",
     "text": [
      "Mean Squared Error (MSE): 0.09560223101633031\n",
      "Mean Absolute Error (MAE): 0.23246702196779295\n",
      "R-squared (R2) Score: 0.30919610446499857\n"
     ]
    }
   ],
   "source": [
    "from sklearn.metrics import mean_squared_error,mean_absolute_error,r2_score\n",
    "from sklearn.linear_model import LinearRegression\n",
    "lr=LinearRegression()\n",
    "lr.fit(xtrain,ytrain)\n",
    "ypre_lr=lr.predict(xtest)\n",
    "\n",
    "mse = mean_squared_error(ytest, ypre_lr)\n",
    "mae = mean_absolute_error(ytest, ypre_lr)\n",
    "rmse = np.sqrt(mse)\n",
    "\n",
    "print(\"Mean Squared Error (MSE):\", mse)\n",
    "print(\"Mean Absolute Error (MAE):\", mae)\n",
    "print(\"R-squared (R2) Score:\", rmse)\n",
    "# 4sec"
   ]
  },
  {
   "cell_type": "code",
   "execution_count": 28,
   "id": "c3b32464",
   "metadata": {},
   "outputs": [],
   "source": [
    "mvl=sum(ypre_lr)/len(ypre_lr)\n",
    "por=[0]*len(ytest)\n",
    "for i in range(0,len(ypre_lr)):\n",
    "    if(ypre_knn[i]==0 or ypre_lda[i]==0):\n",
    "        if(ypre_lr[i]<mvl):\n",
    "            por[i]=0\n",
    "    elif(ypre_knn[i]==1 or ypre_lda[i]==1):\n",
    "        if(ypre_lr[i]>mvl):\n",
    "            por[i]=1\n",
    "    else:\n",
    "        por[i]=ypre_knn[i]"
   ]
  },
  {
   "cell_type": "code",
   "execution_count": 29,
   "id": "ba92fd86",
   "metadata": {},
   "outputs": [
    {
     "name": "stdout",
     "output_type": "stream",
     "text": [
      "acc :  0.9026086956521739\n",
      "pre :  0.9142857142857143\n",
      "f1  :  0.9014084507042254\n",
      "re  :  0.8888888888888888\n"
     ]
    }
   ],
   "source": [
    "acc=accuracy_score(ytest,por)\n",
    "pcc=precision_score(ytest,por)\n",
    "ff=f1_score(ytest,por)\n",
    "re=recall_score(ytest,por)\n",
    "print(\"acc : \",acc)\n",
    "print(\"pre : \",pcc)\n",
    "print(\"f1  : \",ff)\n",
    "print(\"re  : \",re)"
   ]
  },
  {
   "cell_type": "code",
   "execution_count": 30,
   "id": "1a02c9d7",
   "metadata": {},
   "outputs": [
    {
     "name": "stdout",
     "output_type": "stream",
     "text": [
      "              precision    recall  f1-score   support\n",
      "\n",
      "           0       0.89      0.92      0.90       574\n",
      "           1       0.91      0.89      0.90       576\n",
      "\n",
      "    accuracy                           0.90      1150\n",
      "   macro avg       0.90      0.90      0.90      1150\n",
      "weighted avg       0.90      0.90      0.90      1150\n",
      "\n"
     ]
    }
   ],
   "source": [
    "print(classification_report(ytest,por))"
   ]
  },
  {
   "cell_type": "code",
   "execution_count": 14,
   "id": "ae3d181d",
   "metadata": {},
   "outputs": [
    {
     "data": {
      "image/png": "[encoded data removed]",
      "text/plain": [
       "<Figure size 800x600 with 1 Axes>"
      ]
     },
     "metadata": {},
     "output_type": "display_data"
    }
   ],
   "source": [
    "import matplotlib.pyplot as plt\n",
    "\n",
    "# Model names and recall values\n",
    "models = ['SMOTE', 'UNDER', 'OVER','NOTHING']\n",
    "recall_values = [0.9879743789107335,0.8888888888888888, 0.9860876004294865,0.38956521739130434]\n",
    "\n",
    "# Sort the model names and recall values by recall values in descending order\n",
    "sorted_data = sorted(zip(recall_values, models), reverse=True)\n",
    "sorted_recall_values, sorted_models = zip(*sorted_data)\n",
    "\n",
    "\n",
    "# Plotting the bar graph\n",
    "plt.figure(figsize=(8, 6))\n",
    "bars = plt.bar(sorted_models, sorted_recall_values)\n",
    "\n",
    "# Adding recall values on top of each bar\n",
    "for bar, value in zip(bars, sorted_recall_values):\n",
    "    plt.text(bar.get_x() + bar.get_width() / 2, bar.get_height() + 0.01, f'{value:.2f}', ha='center', va='bottom')\n",
    "\n",
    "# Adding labels and title\n",
    "plt.xlabel('Handling imbalance dataset method')\n",
    "plt.ylabel('Recall Value')\n",
    "plt.title('Recall for Dataset 1')\n",
    "\n",
    "# Display the plot\n",
    "plt.show()\n"
   ]
  }
 ],
 "metadata": {
  "kernelspec": {
   "display_name": "Python 3 (ipykernel)",
   "language": "python",
   "name": "python3"
  },
  "language_info": {
   "codemirror_mode": {
    "name": "ipython",
    "version": 3
   },
   "file_extension": ".py",
   "mimetype": "text/x-python",
   "name": "python",
   "nbconvert_exporter": "python",
   "pygments_lexer": "ipython3",
   "version": "3.11.4"
  }
 },
 "nbformat": 4,
 "nbformat_minor": 5
}
