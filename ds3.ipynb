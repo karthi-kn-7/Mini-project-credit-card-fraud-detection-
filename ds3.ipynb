{
 "cells": [
  {
   "cell_type": "code",
   "execution_count": 37,
   "id": "e2428246-9472-44e2-bffe-bee95f33028c",
   "metadata": {},
   "outputs": [],
   "source": [
    "import pandas as pd\n",
    "import numpy as np\n",
    "import warnings\n",
    "import time\n",
    "import matplotlib.pyplot as plt\n",
    "import seaborn as sns\n",
    "from sklearn.preprocessing import LabelEncoder\n",
    "from sklearn.model_selection import train_test_split, StratifiedKFold\n",
    "from sklearn.tree import DecisionTreeClassifier\n",
    "from sklearn.ensemble import RandomForestClassifier\n",
    "from sklearn.neighbors import KNeighborsClassifier\n",
    "from sklearn.linear_model import LinearRegression\n",
    "from sklearn.discriminant_analysis import LinearDiscriminantAnalysis, QuadraticDiscriminantAnalysis\n",
    "from sklearn.metrics import recall_score, classification_report, mean_squared_error, mean_absolute_error, \\\n",
    "    accuracy_score, precision_score, f1_score, confusion_matrix, r2_score\n",
    "from xgboost import XGBRegressor\n",
    "from sklearn.datasets import make_regression\n",
    "from imblearn.over_sampling import SMOTE\n",
    "from imblearn.under_sampling import RandomUnderSampler\n",
    "from collections import Counter\n"
   ]
  },
  {
   "cell_type": "code",
   "execution_count": 38,
   "id": "6591c6b4",
   "metadata": {},
   "outputs": [
    {
     "name": "stdout",
     "output_type": "stream",
     "text": [
      "Requirement already satisfied: xgboost in /opt/anaconda3/lib/python3.9/site-packages (2.0.3)\n",
      "Requirement already satisfied: scipy in /opt/anaconda3/lib/python3.9/site-packages (from xgboost) (1.13.0)\n",
      "Requirement already satisfied: numpy in /opt/anaconda3/lib/python3.9/site-packages (from xgboost) (1.26.4)\n",
      "Note: you may need to restart the kernel to use updated packages.\n"
     ]
    }
   ],
   "source": [
    "pip install xgboost"
   ]
  },
  {
   "cell_type": "code",
   "execution_count": 39,
   "id": "7c2d624a-5f78-43d6-bfde-c73eef91dcd4",
   "metadata": {},
   "outputs": [
    {
     "name": "stdout",
     "output_type": "stream",
     "text": [
      "Numbers of Rows :  25134\n",
      "Number of columns :  20\n",
      "<class 'pandas.core.frame.DataFrame'>\n",
      "RangeIndex: 25134 entries, 0 to 25133\n",
      "Data columns (total 20 columns):\n",
      " #   Column          Non-Null Count  Dtype  \n",
      "---  ------          --------------  -----  \n",
      " 0   Unnamed: 0      25134 non-null  int64  \n",
      " 1   ID              25134 non-null  int64  \n",
      " 2   GENDER          25134 non-null  object \n",
      " 3   CAR             25134 non-null  object \n",
      " 4   REALITY         25134 non-null  object \n",
      " 5   NO_OF_CHILD     25134 non-null  int64  \n",
      " 6   INCOME          25134 non-null  float64\n",
      " 7   INCOME_TYPE     25134 non-null  object \n",
      " 8   EDUCATION_TYPE  25134 non-null  object \n",
      " 9   FAMILY_TYPE     25134 non-null  object \n",
      " 10  HOUSE_TYPE      25134 non-null  object \n",
      " 11  FLAG_MOBIL      25134 non-null  int64  \n",
      " 12  WORK_PHONE      25134 non-null  int64  \n",
      " 13  PHONE           25134 non-null  int64  \n",
      " 14  E_MAIL          25134 non-null  int64  \n",
      " 15  FAMILY SIZE     25134 non-null  float64\n",
      " 16  BEGIN_MONTH     25134 non-null  int64  \n",
      " 17  AGE             25134 non-null  int64  \n",
      " 18  YEARS_EMPLOYED  25134 non-null  int64  \n",
      " 19  TARGET          25134 non-null  int64  \n",
      "dtypes: float64(2), int64(11), object(7)\n",
      "memory usage: 3.8+ MB\n",
      "None\n"
     ]
    },
    {
     "data": {
      "text/html": [
       "<div>\n",
       "<style scoped>\n",
       "    .dataframe tbody tr th:only-of-type {\n",
       "        vertical-align: middle;\n",
       "    }\n",
       "\n",
       "    .dataframe tbody tr th {\n",
       "        vertical-align: top;\n",
       "    }\n",
       "\n",
       "    .dataframe thead th {\n",
       "        text-align: right;\n",
       "    }\n",
       "</style>\n",
       "<table border=\"1\" class=\"dataframe\">\n",
       "  <thead>\n",
       "    <tr style=\"text-align: right;\">\n",
       "      <th></th>\n",
       "      <th>Unnamed: 0</th>\n",
       "      <th>ID</th>\n",
       "      <th>GENDER</th>\n",
       "      <th>CAR</th>\n",
       "      <th>REALITY</th>\n",
       "      <th>NO_OF_CHILD</th>\n",
       "      <th>INCOME</th>\n",
       "      <th>INCOME_TYPE</th>\n",
       "      <th>EDUCATION_TYPE</th>\n",
       "      <th>FAMILY_TYPE</th>\n",
       "      <th>HOUSE_TYPE</th>\n",
       "      <th>FLAG_MOBIL</th>\n",
       "      <th>WORK_PHONE</th>\n",
       "      <th>PHONE</th>\n",
       "      <th>E_MAIL</th>\n",
       "      <th>FAMILY SIZE</th>\n",
       "      <th>BEGIN_MONTH</th>\n",
       "      <th>AGE</th>\n",
       "      <th>YEARS_EMPLOYED</th>\n",
       "      <th>TARGET</th>\n",
       "    </tr>\n",
       "  </thead>\n",
       "  <tbody>\n",
       "    <tr>\n",
       "      <th>0</th>\n",
       "      <td>0</td>\n",
       "      <td>5008806</td>\n",
       "      <td>M</td>\n",
       "      <td>Y</td>\n",
       "      <td>Y</td>\n",
       "      <td>0</td>\n",
       "      <td>112500.0</td>\n",
       "      <td>Working</td>\n",
       "      <td>Secondary / secondary special</td>\n",
       "      <td>Married</td>\n",
       "      <td>House / apartment</td>\n",
       "      <td>1</td>\n",
       "      <td>0</td>\n",
       "      <td>0</td>\n",
       "      <td>0</td>\n",
       "      <td>2.0</td>\n",
       "      <td>29</td>\n",
       "      <td>59</td>\n",
       "      <td>3</td>\n",
       "      <td>0</td>\n",
       "    </tr>\n",
       "    <tr>\n",
       "      <th>1</th>\n",
       "      <td>1</td>\n",
       "      <td>5008808</td>\n",
       "      <td>F</td>\n",
       "      <td>N</td>\n",
       "      <td>Y</td>\n",
       "      <td>0</td>\n",
       "      <td>270000.0</td>\n",
       "      <td>Commercial associate</td>\n",
       "      <td>Secondary / secondary special</td>\n",
       "      <td>Single / not married</td>\n",
       "      <td>House / apartment</td>\n",
       "      <td>1</td>\n",
       "      <td>0</td>\n",
       "      <td>1</td>\n",
       "      <td>1</td>\n",
       "      <td>1.0</td>\n",
       "      <td>4</td>\n",
       "      <td>52</td>\n",
       "      <td>8</td>\n",
       "      <td>0</td>\n",
       "    </tr>\n",
       "    <tr>\n",
       "      <th>2</th>\n",
       "      <td>2</td>\n",
       "      <td>5008809</td>\n",
       "      <td>F</td>\n",
       "      <td>N</td>\n",
       "      <td>Y</td>\n",
       "      <td>0</td>\n",
       "      <td>270000.0</td>\n",
       "      <td>Commercial associate</td>\n",
       "      <td>Secondary / secondary special</td>\n",
       "      <td>Single / not married</td>\n",
       "      <td>House / apartment</td>\n",
       "      <td>1</td>\n",
       "      <td>0</td>\n",
       "      <td>1</td>\n",
       "      <td>1</td>\n",
       "      <td>1.0</td>\n",
       "      <td>26</td>\n",
       "      <td>52</td>\n",
       "      <td>8</td>\n",
       "      <td>0</td>\n",
       "    </tr>\n",
       "    <tr>\n",
       "      <th>3</th>\n",
       "      <td>3</td>\n",
       "      <td>5008810</td>\n",
       "      <td>F</td>\n",
       "      <td>N</td>\n",
       "      <td>Y</td>\n",
       "      <td>0</td>\n",
       "      <td>270000.0</td>\n",
       "      <td>Commercial associate</td>\n",
       "      <td>Secondary / secondary special</td>\n",
       "      <td>Single / not married</td>\n",
       "      <td>House / apartment</td>\n",
       "      <td>1</td>\n",
       "      <td>0</td>\n",
       "      <td>1</td>\n",
       "      <td>1</td>\n",
       "      <td>1.0</td>\n",
       "      <td>26</td>\n",
       "      <td>52</td>\n",
       "      <td>8</td>\n",
       "      <td>0</td>\n",
       "    </tr>\n",
       "    <tr>\n",
       "      <th>4</th>\n",
       "      <td>4</td>\n",
       "      <td>5008811</td>\n",
       "      <td>F</td>\n",
       "      <td>N</td>\n",
       "      <td>Y</td>\n",
       "      <td>0</td>\n",
       "      <td>270000.0</td>\n",
       "      <td>Commercial associate</td>\n",
       "      <td>Secondary / secondary special</td>\n",
       "      <td>Single / not married</td>\n",
       "      <td>House / apartment</td>\n",
       "      <td>1</td>\n",
       "      <td>0</td>\n",
       "      <td>1</td>\n",
       "      <td>1</td>\n",
       "      <td>1.0</td>\n",
       "      <td>38</td>\n",
       "      <td>52</td>\n",
       "      <td>8</td>\n",
       "      <td>0</td>\n",
       "    </tr>\n",
       "  </tbody>\n",
       "</table>\n",
       "</div>"
      ],
      "text/plain": [
       "   Unnamed: 0       ID GENDER CAR REALITY  NO_OF_CHILD    INCOME  \\\n",
       "0           0  5008806      M   Y       Y            0  112500.0   \n",
       "1           1  5008808      F   N       Y            0  270000.0   \n",
       "2           2  5008809      F   N       Y            0  270000.0   \n",
       "3           3  5008810      F   N       Y            0  270000.0   \n",
       "4           4  5008811      F   N       Y            0  270000.0   \n",
       "\n",
       "            INCOME_TYPE                 EDUCATION_TYPE           FAMILY_TYPE  \\\n",
       "0               Working  Secondary / secondary special               Married   \n",
       "1  Commercial associate  Secondary / secondary special  Single / not married   \n",
       "2  Commercial associate  Secondary / secondary special  Single / not married   \n",
       "3  Commercial associate  Secondary / secondary special  Single / not married   \n",
       "4  Commercial associate  Secondary / secondary special  Single / not married   \n",
       "\n",
       "          HOUSE_TYPE  FLAG_MOBIL  WORK_PHONE  PHONE  E_MAIL  FAMILY SIZE  \\\n",
       "0  House / apartment           1           0      0       0          2.0   \n",
       "1  House / apartment           1           0      1       1          1.0   \n",
       "2  House / apartment           1           0      1       1          1.0   \n",
       "3  House / apartment           1           0      1       1          1.0   \n",
       "4  House / apartment           1           0      1       1          1.0   \n",
       "\n",
       "   BEGIN_MONTH  AGE  YEARS_EMPLOYED  TARGET  \n",
       "0           29   59               3       0  \n",
       "1            4   52               8       0  \n",
       "2           26   52               8       0  \n",
       "3           26   52               8       0  \n",
       "4           38   52               8       0  "
      ]
     },
     "execution_count": 39,
     "metadata": {},
     "output_type": "execute_result"
    }
   ],
   "source": [
    "df=pd.read_csv('credit_dataset.csv')\n",
    "missing=df.isnull().sum()\n",
    "\n",
    "print(\"Numbers of Rows : \", df.shape[0])\n",
    "print(\"Number of columns : \", df.shape[1])\n",
    "print(df.info())\n",
    "df.head()\n"
   ]
  },
  {
   "cell_type": "code",
   "execution_count": 40,
   "id": "85afbfd4",
   "metadata": {},
   "outputs": [
    {
     "data": {
      "text/plain": [
       "Unnamed: 0        25134\n",
       "ID                25134\n",
       "GENDER                2\n",
       "CAR                   2\n",
       "REALITY               2\n",
       "NO_OF_CHILD           9\n",
       "INCOME              195\n",
       "INCOME_TYPE           5\n",
       "EDUCATION_TYPE        5\n",
       "FAMILY_TYPE           5\n",
       "HOUSE_TYPE            6\n",
       "FLAG_MOBIL            1\n",
       "WORK_PHONE            2\n",
       "PHONE                 2\n",
       "E_MAIL                2\n",
       "FAMILY SIZE          10\n",
       "BEGIN_MONTH          61\n",
       "AGE                  47\n",
       "YEARS_EMPLOYED       43\n",
       "TARGET                2\n",
       "dtype: int64"
      ]
     },
     "execution_count": 40,
     "metadata": {},
     "output_type": "execute_result"
    }
   ],
   "source": [
    "df.nunique()"
   ]
  },
  {
   "cell_type": "code",
   "execution_count": 41,
   "id": "2a953658",
   "metadata": {},
   "outputs": [],
   "source": [
    "#Dropping the the FLAG_MOBIL attribute as it has only 1 unique value\n",
    "\n",
    "df.drop(columns=['FLAG_MOBIL'], inplace=True)\n"
   ]
  },
  {
   "cell_type": "code",
   "execution_count": 42,
   "id": "f43e8369",
   "metadata": {},
   "outputs": [
    {
     "name": "stdout",
     "output_type": "stream",
     "text": [
      "Number of Fraudulent Transaction :  422  = 1.6790005570144029\n",
      "Number of Valid Transaction :  24712 = 98.3209994429856\n"
     ]
    }
   ],
   "source": [
    "fraud_trans = df['TARGET'].value_counts()[1]\n",
    "valid_trans = df['TARGET'].value_counts()[0]\n",
    "\n",
    "print(\"Number of Fraudulent Transaction : \",fraud_trans,\" =\" ,(fraud_trans/25134)*100)\n",
    "print(\"Number of Valid Transaction : \" ,valid_trans,\"=\",(valid_trans/25134)*100)\n"
   ]
  },
  {
   "cell_type": "code",
   "execution_count": 43,
   "id": "8574519b",
   "metadata": {},
   "outputs": [
    {
     "data": {
      "image/png": "[encoded data removed]",
      "text/plain": [
       "<Figure size 600x600 with 1 Axes>"
      ]
     },
     "metadata": {},
     "output_type": "display_data"
    }
   ],
   "source": [
    "\n",
    "\n",
    "# Given values and labels\n",
    "values = [24712, 422]\n",
    "labels = ['0', '1']\n",
    "\n",
    "# Create a pie chart\n",
    "plt.figure(figsize=(6, 6))  # Optional: set the figure size\n",
    "plt.pie(values, labels=labels, autopct='%1.1f%%', startangle=140)\n",
    "\n",
    "# Add a title (optional)\n",
    "plt.title('Fraudulent vs Non-Fraudulent Transactions')\n",
    "\n",
    "# Display the pie chart\n",
    "plt.show()"
   ]
  },
  {
   "cell_type": "code",
   "execution_count": 44,
   "id": "b04ba8eb",
   "metadata": {},
   "outputs": [
    {
     "name": "stdout",
     "output_type": "stream",
     "text": [
      "Gender :  ['M' 'F']\n",
      "car :  ['Y' 'N']\n",
      "reality :  ['Y' 'N']\n",
      "income_type :  ['Working' 'Commercial associate' 'State servant' 'Student' 'Pensioner']\n",
      "education_type :  ['Secondary / secondary special' 'Higher education' 'Incomplete higher'\n",
      " 'Lower secondary' 'Academic degree']\n",
      "house_type :  ['House / apartment' 'Rented apartment' 'Municipal apartment'\n",
      " 'With parents' 'Co-op apartment' 'Office apartment']\n",
      "family_type :  ['Married' 'Single / not married' 'Civil marriage' 'Separated' 'Widow']\n"
     ]
    }
   ],
   "source": [
    "#Encoding the Attributes :\n",
    "'''\n",
    "gender”, “car”, “reality”,\n",
    "“income_type”, “education_type”, “house_type”, and “family_type '''\n",
    "\n",
    "print(\"Gender : \",df['GENDER'].unique())\n",
    "print(\"car : \",df['CAR'].unique())\n",
    "print(\"reality : \",df['REALITY'].unique())\n",
    "print(\"income_type : \",df['INCOME_TYPE'].unique())\n",
    "print(\"education_type : \",df['EDUCATION_TYPE'].unique())\n",
    "print(\"house_type : \",df['HOUSE_TYPE'].unique())\n",
    "print(\"family_type : \",df['FAMILY_TYPE'].unique())"
   ]
  },
  {
   "cell_type": "code",
   "execution_count": 140,
   "id": "d3761370",
   "metadata": {},
   "outputs": [],
   "source": [
    "\n",
    "\n",
    "columns_to_encode = [\"GENDER\", \"CAR\", \"REALITY\", \"FAMILY_TYPE\", \"INCOME_TYPE\", \"EDUCATION_TYPE\", \"HOUSE_TYPE\"]\n",
    "le = LabelEncoder()\n",
    "\n",
    "for column in columns_to_encode:\n",
    "    encoded = le.fit_transform(df[column])\n",
    "    df[column] = encoded\n",
    "\n"
   ]
  },
  {
   "cell_type": "code",
   "execution_count": 141,
   "id": "75c7abe3",
   "metadata": {},
   "outputs": [
    {
     "data": {
      "text/html": [
       "<div>\n",
       "<style scoped>\n",
       "    .dataframe tbody tr th:only-of-type {\n",
       "        vertical-align: middle;\n",
       "    }\n",
       "\n",
       "    .dataframe tbody tr th {\n",
       "        vertical-align: top;\n",
       "    }\n",
       "\n",
       "    .dataframe thead th {\n",
       "        text-align: right;\n",
       "    }\n",
       "</style>\n",
       "<table border=\"1\" class=\"dataframe\">\n",
       "  <thead>\n",
       "    <tr style=\"text-align: right;\">\n",
       "      <th></th>\n",
       "      <th>Unnamed: 0</th>\n",
       "      <th>ID</th>\n",
       "      <th>GENDER</th>\n",
       "      <th>CAR</th>\n",
       "      <th>REALITY</th>\n",
       "      <th>NO_OF_CHILD</th>\n",
       "      <th>INCOME</th>\n",
       "      <th>INCOME_TYPE</th>\n",
       "      <th>EDUCATION_TYPE</th>\n",
       "      <th>FAMILY_TYPE</th>\n",
       "      <th>HOUSE_TYPE</th>\n",
       "      <th>WORK_PHONE</th>\n",
       "      <th>PHONE</th>\n",
       "      <th>E_MAIL</th>\n",
       "      <th>FAMILY SIZE</th>\n",
       "      <th>BEGIN_MONTH</th>\n",
       "      <th>AGE</th>\n",
       "      <th>YEARS_EMPLOYED</th>\n",
       "      <th>TARGET</th>\n",
       "    </tr>\n",
       "  </thead>\n",
       "  <tbody>\n",
       "    <tr>\n",
       "      <th>508</th>\n",
       "      <td>508</td>\n",
       "      <td>5009628</td>\n",
       "      <td>0</td>\n",
       "      <td>0</td>\n",
       "      <td>0</td>\n",
       "      <td>0</td>\n",
       "      <td>238500</td>\n",
       "      <td>4</td>\n",
       "      <td>4</td>\n",
       "      <td>1</td>\n",
       "      <td>1</td>\n",
       "      <td>1</td>\n",
       "      <td>0</td>\n",
       "      <td>0</td>\n",
       "      <td>2</td>\n",
       "      <td>59</td>\n",
       "      <td>53</td>\n",
       "      <td>9</td>\n",
       "      <td>1</td>\n",
       "    </tr>\n",
       "    <tr>\n",
       "      <th>664</th>\n",
       "      <td>664</td>\n",
       "      <td>5009938</td>\n",
       "      <td>0</td>\n",
       "      <td>0</td>\n",
       "      <td>1</td>\n",
       "      <td>2</td>\n",
       "      <td>157500</td>\n",
       "      <td>4</td>\n",
       "      <td>4</td>\n",
       "      <td>1</td>\n",
       "      <td>1</td>\n",
       "      <td>0</td>\n",
       "      <td>0</td>\n",
       "      <td>0</td>\n",
       "      <td>4</td>\n",
       "      <td>39</td>\n",
       "      <td>29</td>\n",
       "      <td>6</td>\n",
       "      <td>1</td>\n",
       "    </tr>\n",
       "    <tr>\n",
       "      <th>956</th>\n",
       "      <td>956</td>\n",
       "      <td>5010535</td>\n",
       "      <td>0</td>\n",
       "      <td>1</td>\n",
       "      <td>0</td>\n",
       "      <td>2</td>\n",
       "      <td>135000</td>\n",
       "      <td>4</td>\n",
       "      <td>4</td>\n",
       "      <td>1</td>\n",
       "      <td>1</td>\n",
       "      <td>0</td>\n",
       "      <td>0</td>\n",
       "      <td>0</td>\n",
       "      <td>4</td>\n",
       "      <td>52</td>\n",
       "      <td>38</td>\n",
       "      <td>8</td>\n",
       "      <td>1</td>\n",
       "    </tr>\n",
       "    <tr>\n",
       "      <th>960</th>\n",
       "      <td>960</td>\n",
       "      <td>5010541</td>\n",
       "      <td>0</td>\n",
       "      <td>1</td>\n",
       "      <td>0</td>\n",
       "      <td>2</td>\n",
       "      <td>135000</td>\n",
       "      <td>4</td>\n",
       "      <td>4</td>\n",
       "      <td>1</td>\n",
       "      <td>1</td>\n",
       "      <td>0</td>\n",
       "      <td>0</td>\n",
       "      <td>0</td>\n",
       "      <td>4</td>\n",
       "      <td>52</td>\n",
       "      <td>38</td>\n",
       "      <td>8</td>\n",
       "      <td>1</td>\n",
       "    </tr>\n",
       "    <tr>\n",
       "      <th>1177</th>\n",
       "      <td>1177</td>\n",
       "      <td>5010864</td>\n",
       "      <td>1</td>\n",
       "      <td>1</td>\n",
       "      <td>1</td>\n",
       "      <td>1</td>\n",
       "      <td>450000</td>\n",
       "      <td>0</td>\n",
       "      <td>4</td>\n",
       "      <td>1</td>\n",
       "      <td>1</td>\n",
       "      <td>0</td>\n",
       "      <td>1</td>\n",
       "      <td>1</td>\n",
       "      <td>3</td>\n",
       "      <td>51</td>\n",
       "      <td>50</td>\n",
       "      <td>2</td>\n",
       "      <td>1</td>\n",
       "    </tr>\n",
       "    <tr>\n",
       "      <th>...</th>\n",
       "      <td>...</td>\n",
       "      <td>...</td>\n",
       "      <td>...</td>\n",
       "      <td>...</td>\n",
       "      <td>...</td>\n",
       "      <td>...</td>\n",
       "      <td>...</td>\n",
       "      <td>...</td>\n",
       "      <td>...</td>\n",
       "      <td>...</td>\n",
       "      <td>...</td>\n",
       "      <td>...</td>\n",
       "      <td>...</td>\n",
       "      <td>...</td>\n",
       "      <td>...</td>\n",
       "      <td>...</td>\n",
       "      <td>...</td>\n",
       "      <td>...</td>\n",
       "      <td>...</td>\n",
       "    </tr>\n",
       "    <tr>\n",
       "      <th>25129</th>\n",
       "      <td>25129</td>\n",
       "      <td>5149828</td>\n",
       "      <td>1</td>\n",
       "      <td>1</td>\n",
       "      <td>1</td>\n",
       "      <td>0</td>\n",
       "      <td>315000</td>\n",
       "      <td>4</td>\n",
       "      <td>4</td>\n",
       "      <td>1</td>\n",
       "      <td>1</td>\n",
       "      <td>0</td>\n",
       "      <td>0</td>\n",
       "      <td>0</td>\n",
       "      <td>2</td>\n",
       "      <td>11</td>\n",
       "      <td>48</td>\n",
       "      <td>7</td>\n",
       "      <td>1</td>\n",
       "    </tr>\n",
       "    <tr>\n",
       "      <th>25130</th>\n",
       "      <td>25130</td>\n",
       "      <td>5149834</td>\n",
       "      <td>0</td>\n",
       "      <td>0</td>\n",
       "      <td>1</td>\n",
       "      <td>0</td>\n",
       "      <td>157500</td>\n",
       "      <td>0</td>\n",
       "      <td>1</td>\n",
       "      <td>1</td>\n",
       "      <td>1</td>\n",
       "      <td>0</td>\n",
       "      <td>1</td>\n",
       "      <td>1</td>\n",
       "      <td>2</td>\n",
       "      <td>23</td>\n",
       "      <td>34</td>\n",
       "      <td>4</td>\n",
       "      <td>1</td>\n",
       "    </tr>\n",
       "    <tr>\n",
       "      <th>25131</th>\n",
       "      <td>25131</td>\n",
       "      <td>5149838</td>\n",
       "      <td>0</td>\n",
       "      <td>0</td>\n",
       "      <td>1</td>\n",
       "      <td>0</td>\n",
       "      <td>157500</td>\n",
       "      <td>1</td>\n",
       "      <td>1</td>\n",
       "      <td>1</td>\n",
       "      <td>1</td>\n",
       "      <td>0</td>\n",
       "      <td>1</td>\n",
       "      <td>1</td>\n",
       "      <td>2</td>\n",
       "      <td>32</td>\n",
       "      <td>34</td>\n",
       "      <td>4</td>\n",
       "      <td>1</td>\n",
       "    </tr>\n",
       "    <tr>\n",
       "      <th>25132</th>\n",
       "      <td>25132</td>\n",
       "      <td>5150049</td>\n",
       "      <td>0</td>\n",
       "      <td>0</td>\n",
       "      <td>1</td>\n",
       "      <td>0</td>\n",
       "      <td>283500</td>\n",
       "      <td>4</td>\n",
       "      <td>4</td>\n",
       "      <td>1</td>\n",
       "      <td>1</td>\n",
       "      <td>0</td>\n",
       "      <td>0</td>\n",
       "      <td>0</td>\n",
       "      <td>2</td>\n",
       "      <td>9</td>\n",
       "      <td>49</td>\n",
       "      <td>2</td>\n",
       "      <td>1</td>\n",
       "    </tr>\n",
       "    <tr>\n",
       "      <th>25133</th>\n",
       "      <td>25133</td>\n",
       "      <td>5150337</td>\n",
       "      <td>1</td>\n",
       "      <td>0</td>\n",
       "      <td>1</td>\n",
       "      <td>0</td>\n",
       "      <td>112500</td>\n",
       "      <td>4</td>\n",
       "      <td>4</td>\n",
       "      <td>3</td>\n",
       "      <td>4</td>\n",
       "      <td>0</td>\n",
       "      <td>0</td>\n",
       "      <td>0</td>\n",
       "      <td>1</td>\n",
       "      <td>13</td>\n",
       "      <td>25</td>\n",
       "      <td>3</td>\n",
       "      <td>1</td>\n",
       "    </tr>\n",
       "  </tbody>\n",
       "</table>\n",
       "<p>422 rows × 19 columns</p>\n",
       "</div>"
      ],
      "text/plain": [
       "       Unnamed: 0       ID  GENDER  CAR  REALITY  NO_OF_CHILD  INCOME  \\\n",
       "508           508  5009628       0    0        0            0  238500   \n",
       "664           664  5009938       0    0        1            2  157500   \n",
       "956           956  5010535       0    1        0            2  135000   \n",
       "960           960  5010541       0    1        0            2  135000   \n",
       "1177         1177  5010864       1    1        1            1  450000   \n",
       "...           ...      ...     ...  ...      ...          ...     ...   \n",
       "25129       25129  5149828       1    1        1            0  315000   \n",
       "25130       25130  5149834       0    0        1            0  157500   \n",
       "25131       25131  5149838       0    0        1            0  157500   \n",
       "25132       25132  5150049       0    0        1            0  283500   \n",
       "25133       25133  5150337       1    0        1            0  112500   \n",
       "\n",
       "       INCOME_TYPE  EDUCATION_TYPE  FAMILY_TYPE  HOUSE_TYPE  WORK_PHONE  \\\n",
       "508              4               4            1           1           1   \n",
       "664              4               4            1           1           0   \n",
       "956              4               4            1           1           0   \n",
       "960              4               4            1           1           0   \n",
       "1177             0               4            1           1           0   \n",
       "...            ...             ...          ...         ...         ...   \n",
       "25129            4               4            1           1           0   \n",
       "25130            0               1            1           1           0   \n",
       "25131            1               1            1           1           0   \n",
       "25132            4               4            1           1           0   \n",
       "25133            4               4            3           4           0   \n",
       "\n",
       "       PHONE  E_MAIL  FAMILY SIZE  BEGIN_MONTH  AGE  YEARS_EMPLOYED  TARGET  \n",
       "508        0       0            2           59   53               9       1  \n",
       "664        0       0            4           39   29               6       1  \n",
       "956        0       0            4           52   38               8       1  \n",
       "960        0       0            4           52   38               8       1  \n",
       "1177       1       1            3           51   50               2       1  \n",
       "...      ...     ...          ...          ...  ...             ...     ...  \n",
       "25129      0       0            2           11   48               7       1  \n",
       "25130      1       1            2           23   34               4       1  \n",
       "25131      1       1            2           32   34               4       1  \n",
       "25132      0       0            2            9   49               2       1  \n",
       "25133      0       0            1           13   25               3       1  \n",
       "\n",
       "[422 rows x 19 columns]"
      ]
     },
     "execution_count": 141,
     "metadata": {},
     "output_type": "execute_result"
    }
   ],
   "source": [
    "rows_with_target_1 = df[df['TARGET'] == 1]\n",
    "rows_with_target_1"
   ]
  },
  {
   "cell_type": "code",
   "execution_count": 46,
   "id": "f85a4a29",
   "metadata": {},
   "outputs": [],
   "source": [
    "df['INCOME'] = df['INCOME'].astype('int64')\n",
    "df['FAMILY SIZE'] = df['FAMILY SIZE'].astype('int64')"
   ]
  },
  {
   "cell_type": "code",
   "execution_count": 47,
   "id": "9764b2e9-d1e0-4153-9751-9c4123ca0089",
   "metadata": {},
   "outputs": [
    {
     "name": "stdout",
     "output_type": "stream",
     "text": [
      "<class 'pandas.core.frame.DataFrame'>\n",
      "RangeIndex: 25134 entries, 0 to 25133\n",
      "Data columns (total 18 columns):\n",
      " #   Column          Non-Null Count  Dtype\n",
      "---  ------          --------------  -----\n",
      " 0   Unnamed: 0      25134 non-null  int64\n",
      " 1   ID              25134 non-null  int64\n",
      " 2   GENDER          25134 non-null  int64\n",
      " 3   CAR             25134 non-null  int64\n",
      " 4   REALITY         25134 non-null  int64\n",
      " 5   NO_OF_CHILD     25134 non-null  int64\n",
      " 6   INCOME          25134 non-null  int64\n",
      " 7   INCOME_TYPE     25134 non-null  int64\n",
      " 8   EDUCATION_TYPE  25134 non-null  int64\n",
      " 9   FAMILY_TYPE     25134 non-null  int64\n",
      " 10  HOUSE_TYPE      25134 non-null  int64\n",
      " 11  WORK_PHONE      25134 non-null  int64\n",
      " 12  PHONE           25134 non-null  int64\n",
      " 13  E_MAIL          25134 non-null  int64\n",
      " 14  FAMILY SIZE     25134 non-null  int64\n",
      " 15  BEGIN_MONTH     25134 non-null  int64\n",
      " 16  AGE             25134 non-null  int64\n",
      " 17  YEARS_EMPLOYED  25134 non-null  int64\n",
      "dtypes: int64(18)\n",
      "memory usage: 3.5 MB\n",
      "None\n"
     ]
    }
   ],
   "source": [
    "X=df.drop(columns='TARGET')\n",
    "y=df['TARGET']\n",
    "\n",
    "print(X.info())"
   ]
  },
  {
   "cell_type": "code",
   "execution_count": 48,
   "id": "5082b24f",
   "metadata": {},
   "outputs": [],
   "source": [
    "\n",
    "X_train, X_test, y_train, y_test= train_test_split(X, y, test_size= 0.25, random_state=0)  "
   ]
  },
  {
   "cell_type": "code",
   "execution_count": 49,
   "id": "265122aa",
   "metadata": {},
   "outputs": [
    {
     "name": "stdout",
     "output_type": "stream",
     "text": [
      "Time taken to train the model: 0.23 seconds\n"
     ]
    }
   ],
   "source": [
    "# Using dt classifier \n",
    "start_time = time.time()\n",
    "clf = DecisionTreeClassifier()\n",
    "clf = clf.fit(X_train,y_train)\n",
    "y_pred = clf.predict(X_test)\n",
    "\n",
    "end_time = time.time()\n",
    "training_time = end_time - start_time\n",
    "print(f\"Time taken to train the model: {training_time:.2f} seconds\")"
   ]
  },
  {
   "cell_type": "code",
   "execution_count": 50,
   "id": "5064ddbd",
   "metadata": {},
   "outputs": [
    {
     "data": {
      "text/plain": [
       "0.6728971962616822"
      ]
     },
     "execution_count": 50,
     "metadata": {},
     "output_type": "execute_result"
    }
   ],
   "source": [
    "recall = recall_score(y_test, y_pred)\n",
    "recall"
   ]
  },
  {
   "cell_type": "code",
   "execution_count": 51,
   "id": "f07cc7db",
   "metadata": {},
   "outputs": [
    {
     "name": "stdout",
     "output_type": "stream",
     "text": [
      "              precision    recall  f1-score   support\n",
      "\n",
      "           0       0.99      0.99      0.99      6177\n",
      "           1       0.60      0.67      0.63       107\n",
      "\n",
      "    accuracy                           0.99      6284\n",
      "   macro avg       0.79      0.83      0.81      6284\n",
      "weighted avg       0.99      0.99      0.99      6284\n",
      "\n"
     ]
    }
   ],
   "source": [
    "report = classification_report(y_test, y_pred)\n",
    "print(report)"
   ]
  },
  {
   "cell_type": "code",
   "execution_count": 52,
   "id": "6727b3d8",
   "metadata": {},
   "outputs": [
    {
     "name": "stdout",
     "output_type": "stream",
     "text": [
      "              precision    recall  f1-score   support\n",
      "\n",
      "           0       0.99      1.00      1.00      6177\n",
      "           1       0.87      0.67      0.76       107\n",
      "\n",
      "    accuracy                           0.99      6284\n",
      "   macro avg       0.93      0.84      0.88      6284\n",
      "weighted avg       0.99      0.99      0.99      6284\n",
      "\n",
      "Time taken to train the model: 3.12 seconds\n"
     ]
    }
   ],
   "source": [
    "start_time = time.time()\n",
    "rf_clf = RandomForestClassifier(random_state=0)\n",
    "rf_clf.fit(X_train, y_train)\n",
    "y_pred = rf_clf.predict(X_test)\n",
    "print(classification_report(y_test, y_pred))\n",
    "end_time = time.time()\n",
    "training_time = end_time - start_time\n",
    "\n",
    "\n",
    "print(f\"Time taken to train the model: {training_time:.2f} seconds\")"
   ]
  },
  {
   "cell_type": "code",
   "execution_count": 53,
   "id": "2727b1ba",
   "metadata": {},
   "outputs": [
    {
     "name": "stdout",
     "output_type": "stream",
     "text": [
      "Classification Report:\n",
      "              precision    recall  f1-score   support\n",
      "\n",
      "           0       0.99      0.99      0.99      6177\n",
      "           1       0.32      0.39      0.35       107\n",
      "\n",
      "    accuracy                           0.98      6284\n",
      "   macro avg       0.66      0.69      0.67      6284\n",
      "weighted avg       0.98      0.98      0.98      6284\n",
      "\n"
     ]
    }
   ],
   "source": [
    "qda_model = QuadraticDiscriminantAnalysis()\n",
    "qda_model.fit(X_train, y_train)\n",
    "y_pred = qda_model.predict(X_test)\n",
    "print(\"Classification Report:\")\n",
    "print(classification_report(y_test, y_pred))\n"
   ]
  },
  {
   "cell_type": "code",
   "execution_count": 54,
   "id": "d38d697d",
   "metadata": {},
   "outputs": [
    {
     "name": "stdout",
     "output_type": "stream",
     "text": [
      "Requirement already satisfied: imblearn in /opt/anaconda3/lib/python3.9/site-packages (0.0)\n",
      "Requirement already satisfied: imbalanced-learn in /opt/anaconda3/lib/python3.9/site-packages (from imblearn) (0.12.0)\n",
      "Requirement already satisfied: threadpoolctl>=2.0.0 in /opt/anaconda3/lib/python3.9/site-packages (from imbalanced-learn->imblearn) (2.2.0)\n",
      "Requirement already satisfied: scipy>=1.5.0 in /opt/anaconda3/lib/python3.9/site-packages (from imbalanced-learn->imblearn) (1.13.0)\n",
      "Requirement already satisfied: numpy>=1.17.3 in /opt/anaconda3/lib/python3.9/site-packages (from imbalanced-learn->imblearn) (1.26.4)\n",
      "Requirement already satisfied: joblib>=1.1.1 in /opt/anaconda3/lib/python3.9/site-packages (from imbalanced-learn->imblearn) (1.3.2)\n",
      "Requirement already satisfied: scikit-learn>=1.0.2 in /opt/anaconda3/lib/python3.9/site-packages (from imbalanced-learn->imblearn) (1.4.1.post1)\n",
      "Note: you may need to restart the kernel to use updated packages.\n"
     ]
    }
   ],
   "source": [
    "pip install imblearn\n"
   ]
  },
  {
   "cell_type": "code",
   "execution_count": 55,
   "id": "aecc0bbd-dce9-468c-ac9a-48a968130281",
   "metadata": {},
   "outputs": [],
   "source": [
    "smote=SMOTE(sampling_strategy='minority')\n",
    "x_sm,y_sm=smote.fit_resample(X,y)"
   ]
  },
  {
   "cell_type": "code",
   "execution_count": 56,
   "id": "0846245a-58a7-4ce8-ab91-8714873f962e",
   "metadata": {},
   "outputs": [
    {
     "data": {
      "text/plain": [
       "TARGET\n",
       "0    24712\n",
       "1    24712\n",
       "Name: count, dtype: int64"
      ]
     },
     "execution_count": 56,
     "metadata": {},
     "output_type": "execute_result"
    }
   ],
   "source": [
    "y_sm.value_counts()"
   ]
  },
  {
   "cell_type": "code",
   "execution_count": 57,
   "id": "ec81e8a1-6da6-4692-825c-e2e88052e126",
   "metadata": {},
   "outputs": [
    {
     "data": {
      "text/plain": [
       "TARGET\n",
       "0    24712\n",
       "1    24712\n",
       "Name: count, dtype: int64"
      ]
     },
     "execution_count": 57,
     "metadata": {},
     "output_type": "execute_result"
    }
   ],
   "source": [
    "y_sm.value_counts()"
   ]
  },
  {
   "cell_type": "code",
   "execution_count": 58,
   "id": "dbfa7449",
   "metadata": {},
   "outputs": [],
   "source": [
    "def underSampling():\n",
    "    \n",
    "\n",
    "    undersampler = RandomUnderSampler(sampling_strategy='auto', random_state=42)\n",
    "    x_under,y_under = undersampler.fit_resample(X,y)\n",
    "    \n",
    "   \n",
    "    xtrain,xtest,ytrain,ytest=train_test_split(x_under,y_under,test_size=.20,stratify=y_under)\n",
    "    \n",
    "    knn = KNeighborsClassifier(algorithm='auto', leaf_size=30, metric='minkowski', metric_params=None, n_jobs=-1, n_neighbors=5, p=2, weights='uniform')\n",
    "\n",
    "    knn.fit(xtrain,ytrain)\n",
    "    ypre_knn=knn.predict(xtest)\n",
    "    print(\"report\\n\",classification_report(ytest,ypre_knn,digits=6))\n",
    "    \n",
    "    lda = LinearDiscriminantAnalysis(covariance_estimator=None, n_components=None, priors=None, shrinkage=None, solver='svd', store_covariance=False, tol=0.0001)\n",
    "\n",
    "    lda.fit(xtrain, ytrain)\n",
    "    ypre_lda = lda.predict(xtest)\n",
    "    print(\"lda report\\n\", classification_report(ytest, ypre_lda))\n",
    "    \n",
    "    lr=LinearRegression()\n",
    "    lr.fit(xtrain,ytrain)\n",
    "    ypre_lr=lr.predict(xtest)\n",
    "\n",
    "    mse = mean_squared_error(ytest, ypre_lr)\n",
    "    mae = mean_absolute_error(ytest, ypre_lr)\n",
    "\n",
    "\n",
    "    print(\"Mean Squared Error (MSE):\", mse)\n",
    "    print(\"Mean Absolute Error (MAE):\", mae)\n",
    "    \n",
    "    mvl = np.mean(ypre_lr)\n",
    "\n",
    "    # Initialize the final predictions array\n",
    "    por = np.zeros_like(ytest)\n",
    "\n",
    "    for i in range(0,len(ypre_lr)):\n",
    "        if(ypre_knn[i]==0 or ypre_lda[i]==0):\n",
    "            if(ypre_lr[i]<mvl):\n",
    "                por[i]=0\n",
    "        elif(ypre_knn[i]==1 or ypre_lda[i]==1):\n",
    "            if(ypre_lr[i]>mvl):\n",
    "                por[i]=1\n",
    "        else:\n",
    "            por[i]=ypre_knn[i]\n",
    "    print(classification_report(ytest,por))\n",
    "    "
   ]
  },
  {
   "cell_type": "code",
   "execution_count": 59,
   "id": "af761807",
   "metadata": {},
   "outputs": [
    {
     "name": "stdout",
     "output_type": "stream",
     "text": [
      "report\n",
      "               precision    recall  f1-score   support\n",
      "\n",
      "           0   0.758242  0.811765  0.784091        85\n",
      "           1   0.794872  0.738095  0.765432        84\n",
      "\n",
      "    accuracy                       0.775148       169\n",
      "   macro avg   0.776557  0.774930  0.774762       169\n",
      "weighted avg   0.776448  0.775148  0.774817       169\n",
      "\n",
      "lda report\n",
      "               precision    recall  f1-score   support\n",
      "\n",
      "           0       0.82      0.80      0.81        85\n",
      "           1       0.80      0.82      0.81        84\n",
      "\n",
      "    accuracy                           0.81       169\n",
      "   macro avg       0.81      0.81      0.81       169\n",
      "weighted avg       0.81      0.81      0.81       169\n",
      "\n",
      "Mean Squared Error (MSE): 0.1316675044582883\n",
      "Mean Absolute Error (MAE): 0.307717330025218\n",
      "              precision    recall  f1-score   support\n",
      "\n",
      "           0       0.71      0.93      0.81        85\n",
      "           1       0.90      0.62      0.73        84\n",
      "\n",
      "    accuracy                           0.78       169\n",
      "   macro avg       0.80      0.77      0.77       169\n",
      "weighted avg       0.80      0.78      0.77       169\n",
      "\n"
     ]
    }
   ],
   "source": [
    "underSampling()"
   ]
  },
  {
   "cell_type": "code",
   "execution_count": 60,
   "id": "1d4f5091",
   "metadata": {},
   "outputs": [
    {
     "data": {
      "image/png": "[encoded data removed]",
      "text/plain": [
       "<Figure size 640x480 with 1 Axes>"
      ]
     },
     "metadata": {},
     "output_type": "display_data"
    }
   ],
   "source": [
    "categories = ['OverSampling', \"UnderSampling\"]\n",
    "values = [0.95,0.64 ]  \n",
    "colors = ['blue', 'blue']\n",
    "fig, ax = plt.subplots()\n",
    "bars = ax.bar(categories, values, color=colors)\n",
    "for bar in bars:\n",
    "    x_val = bar.get_x() + bar.get_width() / 2  \n",
    "    y_val = bar.get_height()  \n",
    "    ax.text(x_val, y_val, f'{y_val:.2f}',  \n",
    "            ha='center', va='bottom')  \n",
    "\n",
    "ax.set_title('Recall for dataset 3')\n",
    "ax.set_xlabel('Handling imbalanced dataset ')\n",
    "ax.set_ylabel('Recall values')\n",
    "\n",
    "plt.show()"
   ]
  },
  {
   "cell_type": "code",
   "execution_count": 61,
   "id": "dd4163e7",
   "metadata": {},
   "outputs": [
    {
     "data": {
      "image/png": "[encoded data removed]",
      "text/plain": [
       "<Figure size 1000x800 with 2 Axes>"
      ]
     },
     "metadata": {},
     "output_type": "display_data"
    }
   ],
   "source": [
    "#Target , Age , Family_Size , Phone , No_of_Child , Unnamed \n",
    "\n",
    "#Correlation matrix\n",
    "\n",
    "\n",
    "\n",
    "# Select the columns you want to include in the correlation matrix\n",
    "columns = ['TARGET', 'AGE', 'FAMILY SIZE', 'PHONE', 'NO_OF_CHILD']\n",
    "\n",
    "# Compute the correlation matrix\n",
    "corr_matrix = df[columns].corr()\n",
    "\n",
    "# Plot the heatmap\n",
    "plt.figure(figsize=(10, 8))\n",
    "sns.heatmap(corr_matrix, annot=True, cmap='coolwarm', fmt=\".2f\")  # fmt=\".2f\" for 2 decimal places\n",
    "plt.title('Correlation Matrix')\n",
    "plt.show()\n"
   ]
  },
  {
   "cell_type": "code",
   "execution_count": 62,
   "id": "0748cc15",
   "metadata": {},
   "outputs": [
    {
     "name": "stdout",
     "output_type": "stream",
     "text": [
      "['Unnamed: 0', 'ID', 'GENDER', 'CAR', 'REALITY', 'NO_OF_CHILD', 'INCOME', 'INCOME_TYPE', 'EDUCATION_TYPE', 'FAMILY_TYPE', 'HOUSE_TYPE', 'WORK_PHONE', 'PHONE', 'E_MAIL', 'FAMILY SIZE', 'BEGIN_MONTH', 'AGE', 'YEARS_EMPLOYED']\n",
      "18\n"
     ]
    }
   ],
   "source": [
    "column_names = list(df.columns)\n",
    "\n",
    "column_names.remove(\"TARGET\")\n",
    "\n",
    "print(column_names)\n",
    "print(len(column_names))"
   ]
  },
  {
   "cell_type": "code",
   "execution_count": 63,
   "id": "86993cfa",
   "metadata": {
    "scrolled": true
   },
   "outputs": [
    {
     "name": "stdout",
     "output_type": "stream",
     "text": [
      "Unnamed: 0: 0.13839\n",
      "ID: 0.00104\n",
      "GENDER: 0.00154\n",
      "CAR: 0.00199\n",
      "REALITY: 0.00109\n",
      "NO_OF_CHILD: 0.30016\n",
      "INCOME: 0.00058\n",
      "INCOME_TYPE: 0.00115\n",
      "EDUCATION_TYPE: 0.53974\n",
      "FAMILY_TYPE: 0.00191\n",
      "HOUSE_TYPE: 0.00220\n",
      "FLAG_MOBIL: 0.00102\n",
      "WORK_PHONE: 0.00224\n",
      "PHONE: 0.00072\n",
      "E_MAIL: 0.00280\n",
      "FAMILY SIZE: 0.00092\n",
      "BEGIN_MONTH: 0.00080\n",
      "AGE: 0.00081\n",
      "YEARS_EMPLOYED: 0.00089\n"
     ]
    },
    {
     "data": {
      "image/png": "[encoded data removed]",
      "text/plain": [
       "<Figure size 1000x600 with 1 Axes>"
      ]
     },
     "metadata": {},
     "output_type": "display_data"
    }
   ],
   "source": [
    "\n",
    "\n",
    "\n",
    "# Define dataset\n",
    "X, y = make_regression(n_samples=1000, n_features=19, n_informative=5, random_state=1)\n",
    "\n",
    "# Define the model\n",
    "model = XGBRegressor()\n",
    "\n",
    "# Fit the model\n",
    "model.fit(X, y)\n",
    "\n",
    "# Get importance\n",
    "importance = model.feature_importances_\n",
    "\n",
    "# Get feature names from the dataset (assuming you have them)\n",
    "feature_names = ['Unnamed: 0', 'ID', 'GENDER', 'CAR', 'REALITY', 'NO_OF_CHILD', 'INCOME', 'INCOME_TYPE', 'EDUCATION_TYPE', 'FAMILY_TYPE', 'HOUSE_TYPE', 'FLAG_MOBIL', 'WORK_PHONE', 'PHONE', 'E_MAIL', 'FAMILY SIZE', 'BEGIN_MONTH', 'AGE', 'YEARS_EMPLOYED'] # Modify this based on your actual feature names\n",
    "\n",
    "# Summarize feature importance\n",
    "for i,v in enumerate(importance):\n",
    "    print(f'{feature_names[i]}: {v:.5f}')\n",
    "\n",
    "fig, ax = plt.subplots(figsize=(10, 6))  # Adjust figure size as needed\n",
    "bar = ax.bar(feature_names, importance)\n",
    "ax.set_xlabel('Features')\n",
    "ax.set_ylabel('Importance Score')\n",
    "ax.set_title('Feature Importance')\n",
    "ax.tick_params(axis='x', rotation=45)  # Rotate x-axis labels for better readability\n",
    "plt.show()\n"
   ]
  },
  {
   "cell_type": "code",
   "execution_count": 64,
   "id": "22ac657c",
   "metadata": {},
   "outputs": [
    {
     "name": "stdout",
     "output_type": "stream",
     "text": [
      "EDUCATION_TYPE: 0.53974\n",
      "NO_OF_CHILD: 0.30016\n",
      "Unnamed: 0: 0.13839\n",
      "E_MAIL: 0.0028\n",
      "WORK_PHONE: 0.00224\n",
      "HOUSE_TYPE: 0.0022\n",
      "CAR: 0.00199\n",
      "FAMILY_TYPE: 0.00191\n",
      "GENDER: 0.00154\n",
      "INCOME_TYPE: 0.00115\n",
      "REALITY: 0.00109\n",
      "ID: 0.00104\n",
      "FLAG_MOBIL: 0.00102\n",
      "FAMILY SIZE: 0.00092\n",
      "YEARS_EMPLOYED: 0.00089\n",
      "AGE: 0.00081\n",
      "BEGIN_MONTH: 0.0008\n",
      "PHONE: 0.00072\n",
      "INCOME: 0.00058\n"
     ]
    }
   ],
   "source": [
    "# Original attribute-value pairs\n",
    "attributes = {\n",
    "    'Unnamed: 0': 0.13839,\n",
    "    'ID': 0.00104,\n",
    "    'GENDER': 0.00154,\n",
    "    'CAR': 0.00199,\n",
    "    'REALITY': 0.00109,\n",
    "    'NO_OF_CHILD': 0.30016,\n",
    "    'INCOME': 0.00058,\n",
    "    'INCOME_TYPE': 0.00115,\n",
    "    'EDUCATION_TYPE': 0.53974,\n",
    "    'FAMILY_TYPE': 0.00191,\n",
    "    'HOUSE_TYPE': 0.00220,\n",
    "    'FLAG_MOBIL': 0.00102,\n",
    "    'WORK_PHONE': 0.00224,\n",
    "    'PHONE': 0.00072,\n",
    "    'E_MAIL': 0.00280,\n",
    "    'FAMILY SIZE': 0.00092,\n",
    "    'BEGIN_MONTH': 0.00080,\n",
    "    'AGE': 0.00081,\n",
    "    'YEARS_EMPLOYED': 0.00089\n",
    "}\n",
    "\n",
    "# Sort the attributes in descending order of values\n",
    "sorted_attributes = sorted(attributes.items(), key=lambda x: x[1], reverse=True)\n",
    "\n",
    "# Print the sorted attributes\n",
    "for attr, value in sorted_attributes:\n",
    "    print(f\"{attr}: {value}\")\n"
   ]
  },
  {
   "cell_type": "code",
   "execution_count": 65,
   "id": "9189f8f7",
   "metadata": {},
   "outputs": [
    {
     "name": "stdout",
     "output_type": "stream",
     "text": [
      "Top 5 Attributes:\n",
      "Mean Recall (kNN): 0.721390439435301\n",
      "Mean Recall (LDA): 0.7875526939935991\n",
      "\n",
      "Top 6 Attributes:\n",
      "Mean Recall (kNN): 0.7262059186584612\n",
      "Mean Recall (LDA): 0.7886452052794819\n",
      "\n",
      "Top 7 Attributes:\n",
      "Mean Recall (kNN): 0.7291195140588136\n",
      "Mean Recall (LDA): 0.8098898302649393\n",
      "\n",
      "Top 8 Attributes:\n",
      "Mean Recall (kNN): 0.7352299664168281\n",
      "Mean Recall (LDA): 0.8034153821390644\n",
      "\n",
      "Top 9 Attributes:\n",
      "Mean Recall (kNN): 0.7372937034602399\n",
      "Mean Recall (LDA): 0.809242425569747\n",
      "\n",
      "Top 10 Attributes:\n",
      "Mean Recall (kNN): 0.7504453644882293\n",
      "Mean Recall (LDA): 0.7994094801334157\n",
      "\n",
      "Top 11 Attributes:\n",
      "Mean Recall (kNN): 0.7521044234504022\n",
      "Mean Recall (LDA): 0.8034963619663188\n",
      "\n",
      "Top 12 Attributes:\n",
      "Mean Recall (kNN): 0.9435493889752322\n",
      "Mean Recall (LDA): 0.7522663831049112\n",
      "\n",
      "Top 13 Attributes:\n",
      "Mean Recall (kNN): 0.9436707809374912\n",
      "Mean Recall (LDA): 0.7567984861496331\n",
      "\n",
      "Top 14 Attributes:\n",
      "Mean Recall (kNN): 0.9456940649097814\n",
      "Mean Recall (LDA): 0.7580530144005893\n",
      "\n",
      "Top 15 Attributes:\n",
      "Mean Recall (kNN): 0.9481625619066667\n",
      "Mean Recall (LDA): 0.7587409376646911\n",
      "\n",
      "Top 16 Attributes:\n",
      "Mean Recall (kNN): 0.9533826619005017\n",
      "Mean Recall (LDA): 0.8272097131909188\n",
      "\n",
      "Top 17 Attributes:\n",
      "Mean Recall (kNN): 0.9533826619005017\n",
      "Mean Recall (LDA): 0.8283426693606998\n",
      "\n",
      "Top 18 Attributes:\n",
      "Mean Recall (kNN): 0.9528161797219997\n",
      "Mean Recall (LDA): 0.8273310805915072\n",
      "\n"
     ]
    }
   ],
   "source": [
    "# Define the top N significant attributes\n",
    "significant_attributes = {\n",
    "    'Unnamed: 0': 0.13839,\n",
    "    'ID': 0.00104,\n",
    "    'GENDER': 0.00154,\n",
    "    'CAR': 0.00199,\n",
    "    'REALITY': 0.00109,\n",
    "    'NO_OF_CHILD': 0.30016,\n",
    "    'INCOME': 0.00058,\n",
    "    'INCOME_TYPE': 0.00115,\n",
    "    'EDUCATION_TYPE': 0.53974,\n",
    "    'FAMILY_TYPE': 0.00191,\n",
    "    'HOUSE_TYPE': 0.00220,\n",
    "    'WORK_PHONE': 0.00224,\n",
    "    'PHONE': 0.00072,\n",
    "    'E_MAIL': 0.00280,\n",
    "    'FAMILY SIZE': 0.00092,\n",
    "    'BEGIN_MONTH': 0.00080,\n",
    "    'AGE': 0.00081,\n",
    "    'YEARS_EMPLOYED': 0.00089\n",
    "}\n",
    "\n",
    "# Sort the attributes based on their importance\n",
    "sorted_attributes = sorted(significant_attributes.items(), key=lambda x: x[1], reverse=True)\n",
    "\n",
    "# Define lists to store recall values for kNN, LDA, and LR\n",
    "recall_knn_list = []\n",
    "recall_lda_list = []\n",
    "mse_LR = [] \n",
    "mae_LR = [] \n",
    "rmse_LR = []\n",
    "\n",
    "pKNN,pLDA,pLR =[],[],[]\n",
    "\n",
    "# Create StratifiedKFold object\n",
    "skf = StratifiedKFold(n_splits=5, shuffle=True, random_state=1)\n",
    "\n",
    "# Iterate over the range of top_n_attributes from 5 to 18\n",
    "for top_n_attributes in range(5, 19):\n",
    "    # Select the top N attributes\n",
    "    top_n_attributes_names = [attr for attr, _ in sorted_attributes[:top_n_attributes]]\n",
    "\n",
    "    # Initialize lists to store recall values for each fold\n",
    "    recall_knn_fold = []\n",
    "    recall_lda_fold = []\n",
    "    recall_lr_fold = []\n",
    "\n",
    "    # Iterate over the folds\n",
    "    for train_index, test_index in skf.split(x_sm, y_sm):\n",
    "        x_train_fold, x_test_fold = x_sm[top_n_attributes_names].iloc[train_index], x_sm[top_n_attributes_names].iloc[test_index]\n",
    "        y_train_fold, y_test_fold = y_sm.iloc[train_index], y_sm.iloc[test_index]\n",
    "\n",
    "        # Fit kNN model\n",
    "        knn = KNeighborsClassifier()\n",
    "        knn.fit(x_train_fold, y_train_fold)\n",
    "        y_pred_knn = knn.predict(x_test_fold)\n",
    "        pKNN.extend(y_pred_knn)\n",
    "        recall_knn = recall_score(y_test_fold, y_pred_knn)\n",
    "        recall_knn_fold.append(recall_knn)\n",
    "\n",
    "        # Fit LDA model\n",
    "        lda = LinearDiscriminantAnalysis()\n",
    "        lda.fit(x_train_fold, y_train_fold)\n",
    "        y_pred_lda = lda.predict(x_test_fold)\n",
    "        pLDA.extend(y_pred_lda)\n",
    "        recall_lda = recall_score(y_test_fold, y_pred_lda)\n",
    "        recall_lda_fold.append(recall_lda)\n",
    "\n",
    "        # Fit LR model\n",
    "        LR = LinearRegression()\n",
    "        LR.fit(x_train_fold, y_train_fold)\n",
    "        y_LR = LR.predict(x_test_fold)\n",
    "        pLR.extend(y_LR)\n",
    "        mse = mean_squared_error(y_test_fold, y_LR)\n",
    "        mae = mean_absolute_error(y_test_fold, y_LR)\n",
    "        rmse = np.sqrt(mse)\n",
    "\n",
    "        mse_LR.append(mse)\n",
    "        mae_LR.append(mae)\n",
    "        rmse_LR.append(rmse)\n",
    "\n",
    "    # Calculate the mean recall values for each model and append to the respective lists\n",
    "    recall_knn_list.append(np.mean(recall_knn_fold))\n",
    "    recall_lda_list.append(np.mean(recall_lda_fold))\n",
    "\n",
    "# Print the recall values for each top_n_attributes\n",
    "for i, top_n_attributes in enumerate(range(5, 19)):\n",
    "    print(f\"Top {top_n_attributes} Attributes:\")\n",
    "    print(f\"Mean Recall (kNN): {recall_knn_list[i]}\")\n",
    "    print(f\"Mean Recall (LDA): {recall_lda_list[i]}\")\n",
    "#     print(f\"Mean Recall (LR): {recall_lr_list[i]}\")\n",
    "    print()\n"
   ]
  },
  {
   "cell_type": "code",
   "execution_count": 66,
   "id": "31ca4e9a",
   "metadata": {},
   "outputs": [],
   "source": [
    "xtrain,xtest,ytrain,ytest=train_test_split(x_sm,y_sm,test_size=.20,stratify=y_sm)"
   ]
  },
  {
   "cell_type": "code",
   "execution_count": 107,
   "id": "257e4131",
   "metadata": {},
   "outputs": [
    {
     "name": "stdout",
     "output_type": "stream",
     "text": [
      "<class 'pandas.core.frame.DataFrame'>\n",
      "Index: 9885 entries, 30591 to 33265\n",
      "Data columns (total 18 columns):\n",
      " #   Column          Non-Null Count  Dtype\n",
      "---  ------          --------------  -----\n",
      " 0   Unnamed: 0      9885 non-null   int64\n",
      " 1   ID              9885 non-null   int64\n",
      " 2   GENDER          9885 non-null   int64\n",
      " 3   CAR             9885 non-null   int64\n",
      " 4   REALITY         9885 non-null   int64\n",
      " 5   NO_OF_CHILD     9885 non-null   int64\n",
      " 6   INCOME          9885 non-null   int64\n",
      " 7   INCOME_TYPE     9885 non-null   int64\n",
      " 8   EDUCATION_TYPE  9885 non-null   int64\n",
      " 9   FAMILY_TYPE     9885 non-null   int64\n",
      " 10  HOUSE_TYPE      9885 non-null   int64\n",
      " 11  WORK_PHONE      9885 non-null   int64\n",
      " 12  PHONE           9885 non-null   int64\n",
      " 13  E_MAIL          9885 non-null   int64\n",
      " 14  FAMILY SIZE     9885 non-null   int64\n",
      " 15  BEGIN_MONTH     9885 non-null   int64\n",
      " 16  AGE             9885 non-null   int64\n",
      " 17  YEARS_EMPLOYED  9885 non-null   int64\n",
      "dtypes: int64(18)\n",
      "memory usage: 1.4 MB\n"
     ]
    }
   ],
   "source": [
    "xtest.info()"
   ]
  },
  {
   "cell_type": "code",
   "execution_count": 67,
   "id": "8ce4c0b3",
   "metadata": {},
   "outputs": [
    {
     "name": "stdout",
     "output_type": "stream",
     "text": [
      "report\n",
      "               precision    recall  f1-score   support\n",
      "\n",
      "           0   0.955709  0.982396  0.968868      4942\n",
      "           1   0.981894  0.954481  0.967993      4943\n",
      "\n",
      "    accuracy                       0.968437      9885\n",
      "   macro avg   0.968801  0.968438  0.968431      9885\n",
      "weighted avg   0.968803  0.968437  0.968431      9885\n",
      "\n",
      "Time taken to train the model: 17.12 seconds\n"
     ]
    }
   ],
   "source": [
    "#kNN\n",
    "\n",
    "start_time = time.time()\n",
    "knn = KNeighborsClassifier(algorithm='auto', leaf_size=30, metric='minkowski', metric_params=None, n_jobs=-1, n_neighbors=5, p=2, weights='uniform')\n",
    "knn.fit(xtrain,ytrain)\n",
    "ypre_knn=knn.predict(xtest)\n",
    "print(\"report\\n\",classification_report(ytest,ypre_knn,digits=6))\n",
    "end_time = time.time()\n",
    "training_time = end_time - start_time\n",
    "print(f\"Time taken to train the model: {training_time:.2f} seconds\")"
   ]
  },
  {
   "cell_type": "code",
   "execution_count": 68,
   "id": "81350344",
   "metadata": {},
   "outputs": [
    {
     "data": {
      "image/png": "[encoded data removed]",
      "text/plain": [
       "<Figure size 800x800 with 1 Axes>"
      ]
     },
     "metadata": {},
     "output_type": "display_data"
    }
   ],
   "source": [
    "counts = [len(ypre_knn[ypre_knn == 0]), len(ypre_knn[ypre_knn == 1])]\n",
    "labels = ['0 Prediction', '1 Prediction']\n",
    "plt.figure(figsize=(8, 8))\n",
    "plt.pie(counts, labels=labels, autopct='%1.1f%%', startangle=140)\n",
    "plt.title('Distribution of Predictions')\n",
    "plt.axis('equal') \n",
    "plt.show()\n"
   ]
  },
  {
   "cell_type": "code",
   "execution_count": 69,
   "id": "25b6e0d7",
   "metadata": {},
   "outputs": [
    {
     "name": "stdout",
     "output_type": "stream",
     "text": [
      "lda report\n",
      "               precision    recall  f1-score   support\n",
      "\n",
      "           0       0.84      0.86      0.85      4942\n",
      "           1       0.86      0.83      0.84      4943\n",
      "\n",
      "    accuracy                           0.85      9885\n",
      "   macro avg       0.85      0.85      0.85      9885\n",
      "weighted avg       0.85      0.85      0.85      9885\n",
      "\n"
     ]
    }
   ],
   "source": [
    "#LDA \n",
    "lda = LinearDiscriminantAnalysis(covariance_estimator=None, n_components=None, priors=None, shrinkage=None, solver='svd', store_covariance=False, tol=0.0001)\n",
    "lda.fit(xtrain, ytrain)\n",
    "ypre_lda = lda.predict(xtest)\n",
    "print(\"lda report\\n\", classification_report(ytest, ypre_lda))\n"
   ]
  },
  {
   "cell_type": "code",
   "execution_count": 70,
   "id": "34895217",
   "metadata": {},
   "outputs": [
    {
     "name": "stdout",
     "output_type": "stream",
     "text": [
      "Mean Squared Error (MSE): 0.12060286498371889\n",
      "Mean Absolute Error (MAE): 0.289129437857957\n"
     ]
    }
   ],
   "source": [
    "#LR \n",
    "lr=LinearRegression()\n",
    "lr.fit(xtrain,ytrain)\n",
    "ypre_lr=lr.predict(xtest)\n",
    "\n",
    "mse = mean_squared_error(ytest, ypre_lr)\n",
    "mae = mean_absolute_error(ytest, ypre_lr)\n",
    "\n",
    "\n",
    "print(\"Mean Squared Error (MSE):\", mse)\n",
    "print(\"Mean Absolute Error (MAE):\", mae)"
   ]
  },
  {
   "cell_type": "code",
   "execution_count": 71,
   "id": "09a79734",
   "metadata": {},
   "outputs": [],
   "source": [
    "# Calculate the mean prediction of LR model\n",
    "\n",
    "mvl = np.mean(ypre_lr)\n",
    "\n",
    "# Initialize the final predictions array\n",
    "por = np.zeros_like(ytest)\n",
    "for i in range(0,len(ypre_lr)):\n",
    "    if(ypre_knn[i]==0 or ypre_lda[i]==0):\n",
    "        if(ypre_lr[i]<mvl):\n",
    "            por[i]=0\n",
    "    elif(ypre_knn[i]==1 or ypre_lda[i]==1):\n",
    "        if(ypre_lr[i]>mvl):\n",
    "            por[i]=1\n",
    "    else:\n",
    "        por[i]=ypre_knn[i]"
   ]
  },
  {
   "cell_type": "code",
   "execution_count": 72,
   "id": "5c6197be",
   "metadata": {},
   "outputs": [
    {
     "name": "stdout",
     "output_type": "stream",
     "text": [
      "              precision    recall  f1-score   support\n",
      "\n",
      "           0       0.83      1.00      0.91      4942\n",
      "           1       1.00      0.80      0.89      4943\n",
      "\n",
      "    accuracy                           0.90      9885\n",
      "   macro avg       0.91      0.90      0.90      9885\n",
      "weighted avg       0.91      0.90      0.90      9885\n",
      "\n"
     ]
    }
   ],
   "source": [
    "print(classification_report(ytest,por))"
   ]
  },
  {
   "cell_type": "code",
   "execution_count": 73,
   "id": "3eebb544",
   "metadata": {},
   "outputs": [
    {
     "name": "stdout",
     "output_type": "stream",
     "text": [
      "              precision    recall  f1-score   support\n",
      "\n",
      "           0       0.84      0.87      0.85      4942\n",
      "           1       0.86      0.83      0.85      4943\n",
      "\n",
      "    accuracy                           0.85      9885\n",
      "   macro avg       0.85      0.85      0.85      9885\n",
      "weighted avg       0.85      0.85      0.85      9885\n",
      "\n"
     ]
    }
   ],
   "source": [
    "# Calculate the mean prediction of LR model\n",
    "mvl = np.mean(ypre_lr)\n",
    "por = np.zeros_like(ytest)\n",
    "for i in range(len(ypre_lr)):\n",
    "    if (ypre_knn[i] == 0 or ypre_lda[i] == 0) and ypre_lr[i] < mvl:\n",
    "        por[i] = 0\n",
    "    elif (ypre_knn[i] == 1 or ypre_lda[i] == 1) and ypre_lr[i] > mvl:\n",
    "        por[i] = 1\n",
    "    else:\n",
    "        por[i] = ypre_knn[i]\n",
    "\n",
    "print(classification_report(ytest,por))"
   ]
  },
  {
   "cell_type": "code",
   "execution_count": 74,
   "id": "11c7d92c",
   "metadata": {},
   "outputs": [],
   "source": [
    "#modified ALgorithm - Novelity\n",
    "\n",
    "\n",
    "PKNN = ypre_knn\n",
    "PLDA = ypre_lda\n",
    "PLR = ypre_lr\n",
    "por = np.zeros_like(ytest)\n",
    "threshold = 0.43\n",
    "\n",
    "\n",
    "for i in range(len(ytest)):\n",
    "    avg = (PKNN[i] + PLDA[i] + PLR[i]) / 3\n",
    "    if avg > threshold:\n",
    "        por[i] = 1\n",
    "    else:\n",
    "        por[i] = 0\n"
   ]
  },
  {
   "cell_type": "code",
   "execution_count": 75,
   "id": "94fe5474",
   "metadata": {},
   "outputs": [
    {
     "name": "stdout",
     "output_type": "stream",
     "text": [
      "              precision    recall  f1-score   support\n",
      "\n",
      "           0       0.95      0.86      0.90      4942\n",
      "           1       0.87      0.96      0.91      4943\n",
      "\n",
      "    accuracy                           0.91      9885\n",
      "   macro avg       0.91      0.91      0.91      9885\n",
      "weighted avg       0.91      0.91      0.91      9885\n",
      "\n"
     ]
    }
   ],
   "source": [
    "print(classification_report(ytest,por))"
   ]
  },
  {
   "cell_type": "code",
   "execution_count": 76,
   "id": "609648dd",
   "metadata": {},
   "outputs": [],
   "source": [
    "#modified ALgorithm - Novelity\n",
    "# Here we have taken the threshold value as 0.5 \n",
    "\n",
    "PKNN = ypre_knn\n",
    "PLDA = ypre_lda\n",
    "PLR = ypre_lr\n",
    "por = np.zeros_like(ytest)\n",
    "threshold = 0.5\n",
    "for i in range(len(ytest)):\n",
    "\n",
    "    avg = (PKNN[i] + PLDA[i] + PLR[i]) / 3\n",
    "    if avg > threshold:\n",
    "        por[i] = 1\n",
    "    else:\n",
    "        por[i] = 0"
   ]
  },
  {
   "cell_type": "code",
   "execution_count": 77,
   "id": "7c6b621e",
   "metadata": {},
   "outputs": [
    {
     "name": "stdout",
     "output_type": "stream",
     "text": [
      "              precision    recall  f1-score   support\n",
      "\n",
      "           0       0.84      0.86      0.85      4942\n",
      "           1       0.86      0.83      0.84      4943\n",
      "\n",
      "    accuracy                           0.85      9885\n",
      "   macro avg       0.85      0.85      0.85      9885\n",
      "weighted avg       0.85      0.85      0.85      9885\n",
      "\n"
     ]
    }
   ],
   "source": [
    "print(classification_report(ytest,por))"
   ]
  },
  {
   "cell_type": "code",
   "execution_count": 78,
   "id": "ce95953b",
   "metadata": {},
   "outputs": [
    {
     "data": {
      "image/png": "[encoded data removed]",
      "text/plain": [
       "<Figure size 640x480 with 1 Axes>"
      ]
     },
     "metadata": {},
     "output_type": "display_data"
    }
   ],
   "source": [
    "categories = ['Our method', 'DT', 'RF', 'QBC']\n",
    "values = [0.96, 0.67, 0.67, 0.39]  \n",
    "colors = ['red', 'blue', 'blue', 'blue']\n",
    "fig, ax = plt.subplots()\n",
    "bars = ax.bar(categories, values, color=colors)\n",
    "for bar in bars:\n",
    "    x_val = bar.get_x() + bar.get_width() / 2  \n",
    "    y_val = bar.get_height()  \n",
    "    ax.text(x_val, y_val, f'{y_val:.2f}',  \n",
    "            ha='center', va='bottom')  \n",
    "\n",
    "ax.set_title('Recall per model Top 5 in dataset 3')\n",
    "ax.set_xlabel('Models')\n",
    "ax.set_ylabel('Recall values')\n",
    "\n",
    "plt.show()"
   ]
  },
  {
   "cell_type": "code",
   "execution_count": 167,
   "id": "3b22564f",
   "metadata": {},
   "outputs": [
    {
     "name": "stdout",
     "output_type": "stream",
     "text": [
      "Enter Gender (0 -> Female, 1 -> Male): \n",
      "Do you own a car? (1 -> own, 0 -> No): \n",
      "What is your reality status? (0 -> No, 1 -> Yes): \n",
      "Number of children: \n",
      "What is your monthly income? (Enter amount): \n",
      "What is your income type? (0 to 4): \n",
      "What is your education level? (0 to 4): \n",
      "What is your family type? (0 to 4): \n",
      "What type of house do you live in? (0 to 5): \n",
      "Do you have a phone? (0 -> No, 1 -> Yes): \n",
      "Do you have an email address? (0 -> No, 1 -> Yes): \n",
      "How many family members are there? \n",
      "In which month did you start? \n",
      "How many years have you been employed? \n",
      "Enter age \n"
     ]
    }
   ],
   "source": [
    "\n",
    "id_input = np.int64(5008899)\n",
    "\n",
    "gender = np.int64(input(\"Enter Gender (0 -> Female, 1 -> Male): \") or 1)\n",
    "car = np.int64(input(\"Do you own a car? (1 -> own, 0 -> No): \") or 0)\n",
    "reality = np.int64(input(\"What is your reality status? (0 -> No, 1 -> Yes): \") or 1)\n",
    "child = np.int64(input(\"Number of children: \") or 1)\n",
    "income = np.int64(input(\"What is your monthly income? (Enter amount): \") or 112500.0)\n",
    "income_type = np.int64(input(\"What is your income type? (0 to 4): \") or 1)\n",
    "education_type = np.int64(input(\"What is your education level? (0 to 4): \") or 1)\n",
    "family_type = np.int64(input(\"What is your family type? (0 to 4): \") or 1)\n",
    "house_type = np.int64(input(\"What type of house do you live in? (0 to 5): \") or 1)\n",
    "work_phone = np.int64(0)\n",
    "phone = np.int64(input(\"Do you have a phone? (0 -> No, 1 -> Yes): \") or 0)\n",
    "email = np.int64(input(\"Do you have an email address? (0 -> No, 1 -> Yes): \") or 0)\n",
    "family_size = np.int64(input(\"How many family members are there? \") or 2)\n",
    "begin_month = np.int64(input(\"In which month did you start? \") or 1)\n",
    "years_employed = np.int64(input(\"How many years have you been employed? \") or 3)\n",
    "age = np.int64(input(\"Enter age \")or 25)"
   ]
  },
  {
   "cell_type": "code",
   "execution_count": 173,
   "id": "8d2a40ad",
   "metadata": {},
   "outputs": [],
   "source": [
    "data = {\n",
    "    'Unnamed: 0' :[0],\n",
    "    'ID': [id_input],\n",
    "    'GENDER': [gender],\n",
    "    'CAR': [car],\n",
    "    'REALITY': [reality],\n",
    "    'NO_OF_CHILD': [child],\n",
    "    'INCOME': [income],\n",
    "    'INCOME_TYPE': [income_type],\n",
    "    'EDUCATION_TYPE': [education_type],\n",
    "    'FAMILY_TYPE': [family_type],\n",
    "    'HOUSE_TYPE': [house_type],\n",
    "    'WORK_PHONE': [work_phone],\n",
    "    'PHONE': [phone],\n",
    "    'E_MAIL': [email],\n",
    "    'FAMILY SIZE': [family_size],\n",
    "    'BEGIN_MONTH': [begin_month],\n",
    "    'AGE' : [age],\n",
    "    'YEARS_EMPLOYED': [years_employed],\n",
    "    \n",
    "}\n",
    "\n",
    "df_input = pd.DataFrame(data)\n",
    "ypre_knn_input_new=knn.predict(df_input)\n",
    "ypre_lda_input_new = lda.predict(df_input)\n",
    "ypre_lr_input_new=lr.predict(df_input)"
   ]
  },
  {
   "cell_type": "code",
   "execution_count": 174,
   "id": "4eb28e16",
   "metadata": {},
   "outputs": [],
   "source": [
    "ypre_knn_input = (ypre_knn_input_new[0])\n",
    "ypre_lda_input = (ypre_lda_input_new[0]) \n",
    "ypre_lr_input = ypre_lr_input_new[0]"
   ]
  },
  {
   "cell_type": "code",
   "execution_count": 175,
   "id": "5ed14e2f",
   "metadata": {},
   "outputs": [
    {
     "name": "stdout",
     "output_type": "stream",
     "text": [
      "Legit Transaction \n"
     ]
    }
   ],
   "source": [
    "por = 0 \n",
    "if(ypre_knn_input ==0 or ypre_lda_input==0):\n",
    "    if(ypre_lr_input<0.43):\n",
    "        por=0\n",
    "elif(ypre_input==1 or ypre_lda_input==1):\n",
    "    if(ypre_lr_input>0.43):\n",
    "        por =1\n",
    "else:\n",
    "    por=ypre_knn_input\n",
    "\n",
    "\n",
    "if(por == 1 ):\n",
    "    print(\"TRansaction is Fraud !!!!\")\n",
    "else : \n",
    "    print(\"Legit Transaction \")"
   ]
  },
  {
   "cell_type": "code",
   "execution_count": 176,
   "id": "38d0cffe",
   "metadata": {},
   "outputs": [
    {
     "name": "stdout",
     "output_type": "stream",
     "text": [
      "Legit Transaction \n"
     ]
    }
   ],
   "source": [
    "dt_pred_new = (clf.predict(df_input)[0])\n",
    "if(dt_pred_new == 1):\n",
    "    print(\"TRansaction is Fraud !!!!\")\n",
    "else : \n",
    "    print(\"Legit Transaction \")"
   ]
  }
 ],
 "metadata": {
  "kernelspec": {
   "display_name": "Python 3 (ipykernel)",
   "language": "python",
   "name": "python3"
  },
  "language_info": {
   "codemirror_mode": {
    "name": "ipython",
    "version": 3
   },
   "file_extension": ".py",
   "mimetype": "text/x-python",
   "name": "python",
   "nbconvert_exporter": "python",
   "pygments_lexer": "ipython3",
   "version": "3.9.13"
  }
 },
 "nbformat": 4,
 "nbformat_minor": 5
}
